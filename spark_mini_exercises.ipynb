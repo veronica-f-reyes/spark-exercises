{
 "cells": [
  {
   "cell_type": "markdown",
   "id": "cb3748c1",
   "metadata": {},
   "source": [
    "# Spark Mini-Exercises"
   ]
  },
  {
   "cell_type": "code",
   "execution_count": 4,
   "id": "fbffc2f2",
   "metadata": {},
   "outputs": [],
   "source": [
    "import pandas as pd\n",
    "import numpy as np\n",
    "import pyspark\n",
    "\n",
    "np.random.seed(13)\n",
    "\n",
    "pandas_dataframe = pd.DataFrame({\n",
    "    \"n\": np.random.randn(20),\n",
    "    \"group\": np.random.choice(list(\"xyz\"), 20),\n",
    "    \"abool\": np.random.choice([True, False], 20),\n",
    "})"
   ]
  },
  {
   "cell_type": "markdown",
   "id": "6fe35476",
   "metadata": {},
   "source": [
    "1. Spark Dataframe Basics\n",
    "\n",
    "    i. Use the starter code above to create a pandas dataframe.\n",
    "\n",
    "    ii. Convert the pandas dataframe to a spark dataframe. From this point forward, do all of your work with the spark dataframe, not the pandas dataframe."
   ]
  },
  {
   "cell_type": "code",
   "execution_count": 6,
   "id": "6b3e4557",
   "metadata": {},
   "outputs": [],
   "source": [
    "spark = pyspark.sql.SparkSession.builder.getOrCreate()\n",
    "\n",
    "df = spark.createDataFrame(pandas_dataframe)"
   ]
  },
  {
   "cell_type": "markdown",
   "id": "70c0b572",
   "metadata": {},
   "source": [
    "iii. Show the first 3 rows of the dataframe.\n",
    "\n"
   ]
  },
  {
   "cell_type": "code",
   "execution_count": 7,
   "id": "0a344912",
   "metadata": {},
   "outputs": [
    {
     "name": "stdout",
     "output_type": "stream",
     "text": [
      "+--------------------+-----+-----+\n",
      "|                   n|group|abool|\n",
      "+--------------------+-----+-----+\n",
      "|  -0.712390662050588|    z|false|\n",
      "|   0.753766378659703|    x|false|\n",
      "|-0.04450307833805...|    z|false|\n",
      "+--------------------+-----+-----+\n",
      "only showing top 3 rows\n",
      "\n"
     ]
    }
   ],
   "source": [
    "df.show(3)"
   ]
  },
  {
   "cell_type": "markdown",
   "id": "5528fd78",
   "metadata": {},
   "source": [
    "iv. Show the first 7 rows of the dataframe.\n"
   ]
  },
  {
   "cell_type": "code",
   "execution_count": 8,
   "id": "a2d9bb83",
   "metadata": {},
   "outputs": [
    {
     "name": "stdout",
     "output_type": "stream",
     "text": [
      "+--------------------+-----+-----+\n",
      "|                   n|group|abool|\n",
      "+--------------------+-----+-----+\n",
      "|  -0.712390662050588|    z|false|\n",
      "|   0.753766378659703|    x|false|\n",
      "|-0.04450307833805...|    z|false|\n",
      "| 0.45181233874578974|    y|false|\n",
      "|  1.3451017084510097|    z|false|\n",
      "|  0.5323378882945463|    y|false|\n",
      "|  1.3501878997225267|    z|false|\n",
      "+--------------------+-----+-----+\n",
      "only showing top 7 rows\n",
      "\n"
     ]
    }
   ],
   "source": [
    "df.show(7)"
   ]
  },
  {
   "cell_type": "markdown",
   "id": "1e56a695",
   "metadata": {},
   "source": [
    "v. View a summary of the data using .describe."
   ]
  },
  {
   "cell_type": "code",
   "execution_count": 10,
   "id": "17c86d04",
   "metadata": {},
   "outputs": [
    {
     "name": "stdout",
     "output_type": "stream",
     "text": [
      "+-------+------------------+-----+\n",
      "|summary|                 n|group|\n",
      "+-------+------------------+-----+\n",
      "|  count|                20|   20|\n",
      "|   mean|0.3664026449885217| null|\n",
      "| stddev|0.8905322898155363| null|\n",
      "|    min|-1.261605945319069|    x|\n",
      "|    max|2.1503829673811126|    z|\n",
      "+-------+------------------+-----+\n",
      "\n"
     ]
    }
   ],
   "source": [
    "df.describe().show()\n"
   ]
  },
  {
   "cell_type": "markdown",
   "id": "2bda9a81",
   "metadata": {},
   "source": [
    "vi. Use .select to create a new dataframe with just the n and abool columns. View the first 5 rows of this dataframe."
   ]
  },
  {
   "cell_type": "code",
   "execution_count": 11,
   "id": "ce3d2a3e",
   "metadata": {},
   "outputs": [
    {
     "name": "stdout",
     "output_type": "stream",
     "text": [
      "+--------------------+-----+\n",
      "|                   n|abool|\n",
      "+--------------------+-----+\n",
      "|  -0.712390662050588|false|\n",
      "|   0.753766378659703|false|\n",
      "|-0.04450307833805...|false|\n",
      "| 0.45181233874578974|false|\n",
      "|  1.3451017084510097|false|\n",
      "+--------------------+-----+\n",
      "only showing top 5 rows\n",
      "\n"
     ]
    }
   ],
   "source": [
    "df.select('n', 'abool').show(5)\n"
   ]
  },
  {
   "cell_type": "markdown",
   "id": "de929ade",
   "metadata": {},
   "source": [
    "vii. Use .select to create a new dataframe with just the group and abool columns. View the first 5 rows of this dataframe.\n",
    "\n"
   ]
  },
  {
   "cell_type": "code",
   "execution_count": 12,
   "id": "ea746906",
   "metadata": {},
   "outputs": [
    {
     "name": "stdout",
     "output_type": "stream",
     "text": [
      "+-----+-----+\n",
      "|group|abool|\n",
      "+-----+-----+\n",
      "|    z|false|\n",
      "|    x|false|\n",
      "|    z|false|\n",
      "|    y|false|\n",
      "|    z|false|\n",
      "+-----+-----+\n",
      "only showing top 5 rows\n",
      "\n"
     ]
    }
   ],
   "source": [
    "df.select('group', 'abool').show(5)\n"
   ]
  },
  {
   "cell_type": "markdown",
   "id": "7ed91e6c",
   "metadata": {},
   "source": [
    "viii. Use .select to create a new dataframe with the group column and the abool column renamed to a_boolean_value. Show the first 3 rows of this dataframe.\n",
    "\n"
   ]
  },
  {
   "cell_type": "code",
   "execution_count": 13,
   "id": "832d68dd",
   "metadata": {},
   "outputs": [
    {
     "name": "stdout",
     "output_type": "stream",
     "text": [
      "+-----+---------------+\n",
      "|group|a_boolean_value|\n",
      "+-----+---------------+\n",
      "|    z|          false|\n",
      "|    x|          false|\n",
      "|    z|          false|\n",
      "+-----+---------------+\n",
      "only showing top 3 rows\n",
      "\n"
     ]
    }
   ],
   "source": [
    "df.select('group', df.abool.alias('a_boolean_value')).show(3)\n"
   ]
  },
  {
   "cell_type": "markdown",
   "id": "f9df2783",
   "metadata": {},
   "source": [
    "ix. Use .select to create a new dataframe with the group column and the n column renamed to a_numeric_value. Show the first 6 rows of this dataframe."
   ]
  },
  {
   "cell_type": "code",
   "execution_count": 15,
   "id": "65e277be",
   "metadata": {},
   "outputs": [
    {
     "name": "stdout",
     "output_type": "stream",
     "text": [
      "+-----+--------------------+\n",
      "|group|     a_numeric_value|\n",
      "+-----+--------------------+\n",
      "|    z|  -0.712390662050588|\n",
      "|    x|   0.753766378659703|\n",
      "|    z|-0.04450307833805...|\n",
      "|    y| 0.45181233874578974|\n",
      "|    z|  1.3451017084510097|\n",
      "|    y|  0.5323378882945463|\n",
      "+-----+--------------------+\n",
      "only showing top 6 rows\n",
      "\n"
     ]
    }
   ],
   "source": [
    "from pyspark.sql.functions import col\n",
    "\n",
    "df.select('group', col('n').alias('a_numeric_value')).show(6)"
   ]
  },
  {
   "cell_type": "markdown",
   "id": "e924e7a3",
   "metadata": {},
   "source": [
    "2. Column Manipulation\n",
    "\n",
    "    i. Use the starter code above to re-create a spark dataframe. Store the spark dataframe in a varaible named df\n",
    "\n",
    "    ii. Use .select to add 4 to the n column. Show the results."
   ]
  },
  {
   "cell_type": "code",
   "execution_count": 16,
   "id": "4d5c56f7",
   "metadata": {},
   "outputs": [
    {
     "name": "stdout",
     "output_type": "stream",
     "text": [
      "+--------------------+------------------+\n",
      "|                   n|           (n + 4)|\n",
      "+--------------------+------------------+\n",
      "|  -0.712390662050588|3.2876093379494122|\n",
      "|   0.753766378659703| 4.753766378659703|\n",
      "|-0.04450307833805...|3.9554969216619464|\n",
      "| 0.45181233874578974|  4.45181233874579|\n",
      "|  1.3451017084510097|5.3451017084510095|\n",
      "|  0.5323378882945463| 4.532337888294546|\n",
      "|  1.3501878997225267| 5.350187899722527|\n",
      "|  0.8612113741693206|  4.86121137416932|\n",
      "|  1.4786857374358966| 5.478685737435897|\n",
      "| -1.0453771305385342| 2.954622869461466|\n",
      "| -0.7889890249515489|3.2110109750484512|\n",
      "|  -1.261605945319069| 2.738394054680931|\n",
      "|  0.5628467852810314| 4.562846785281032|\n",
      "|-0.24332625188556253|3.7566737481144377|\n",
      "|  0.9137407048596775| 4.913740704859677|\n",
      "| 0.31735092273633597| 4.317350922736336|\n",
      "| 0.12730328020698067| 4.127303280206981|\n",
      "|  2.1503829673811126| 6.150382967381113|\n",
      "|  0.6062886568962988| 4.606288656896298|\n",
      "|-0.02677164998644...|3.9732283500135592|\n",
      "+--------------------+------------------+\n",
      "\n"
     ]
    }
   ],
   "source": [
    "df.select('n', df.n + 4).show()"
   ]
  },
  {
   "cell_type": "markdown",
   "id": "74651a6a",
   "metadata": {},
   "source": [
    "iii. Subtract 5 from the n column and view the results."
   ]
  },
  {
   "cell_type": "code",
   "execution_count": 17,
   "id": "012a709b",
   "metadata": {},
   "outputs": [
    {
     "name": "stdout",
     "output_type": "stream",
     "text": [
      "+--------------------+-------------------+\n",
      "|                   n|            (n - 5)|\n",
      "+--------------------+-------------------+\n",
      "|  -0.712390662050588| -5.712390662050588|\n",
      "|   0.753766378659703| -4.246233621340297|\n",
      "|-0.04450307833805...| -5.044503078338053|\n",
      "| 0.45181233874578974|  -4.54818766125421|\n",
      "|  1.3451017084510097|-3.6548982915489905|\n",
      "|  0.5323378882945463| -4.467662111705454|\n",
      "|  1.3501878997225267|-3.6498121002774733|\n",
      "|  0.8612113741693206|  -4.13878862583068|\n",
      "|  1.4786857374358966| -3.521314262564103|\n",
      "| -1.0453771305385342| -6.045377130538534|\n",
      "| -0.7889890249515489| -5.788989024951549|\n",
      "|  -1.261605945319069| -6.261605945319069|\n",
      "|  0.5628467852810314| -4.437153214718968|\n",
      "|-0.24332625188556253| -5.243326251885563|\n",
      "|  0.9137407048596775| -4.086259295140323|\n",
      "| 0.31735092273633597| -4.682649077263664|\n",
      "| 0.12730328020698067| -4.872696719793019|\n",
      "|  2.1503829673811126|-2.8496170326188874|\n",
      "|  0.6062886568962988| -4.393711343103702|\n",
      "|-0.02677164998644...| -5.026771649986441|\n",
      "+--------------------+-------------------+\n",
      "\n"
     ]
    }
   ],
   "source": [
    "df.select('n', df.n - 5).show()\n"
   ]
  },
  {
   "cell_type": "markdown",
   "id": "208a9b9f",
   "metadata": {},
   "source": [
    "iv. Multiply the n column by 2. View the results along with the original numbers."
   ]
  },
  {
   "cell_type": "code",
   "execution_count": 18,
   "id": "65194899",
   "metadata": {},
   "outputs": [
    {
     "name": "stdout",
     "output_type": "stream",
     "text": [
      "+--------------------+--------------------+\n",
      "|                   n|             (n * 5)|\n",
      "+--------------------+--------------------+\n",
      "|  -0.712390662050588| -3.5619533102529397|\n",
      "|   0.753766378659703|  3.7688318932985148|\n",
      "|-0.04450307833805...|-0.22251539169026727|\n",
      "| 0.45181233874578974|   2.259061693728949|\n",
      "|  1.3451017084510097|  6.7255085422550485|\n",
      "|  0.5323378882945463|  2.6616894414727317|\n",
      "|  1.3501878997225267|   6.750939498612634|\n",
      "|  0.8612113741693206|   4.306056870846603|\n",
      "|  1.4786857374358966|   7.393428687179483|\n",
      "| -1.0453771305385342|  -5.226885652692671|\n",
      "| -0.7889890249515489| -3.9449451247577443|\n",
      "|  -1.261605945319069|  -6.308029726595345|\n",
      "|  0.5628467852810314|   2.814233926405157|\n",
      "|-0.24332625188556253| -1.2166312594278126|\n",
      "|  0.9137407048596775|   4.568703524298387|\n",
      "| 0.31735092273633597|    1.58675461368168|\n",
      "| 0.12730328020698067|  0.6365164010349034|\n",
      "|  2.1503829673811126|  10.751914836905563|\n",
      "|  0.6062886568962988|  3.0314432844814942|\n",
      "|-0.02677164998644...|-0.13385824993220363|\n",
      "+--------------------+--------------------+\n",
      "\n"
     ]
    }
   ],
   "source": [
    "df.select('n', df.n * 5).show()\n"
   ]
  },
  {
   "cell_type": "markdown",
   "id": "9f2eca78",
   "metadata": {},
   "source": [
    "v. Add a new column named n2 that is the n value multiplied by -1. Show the first 4 rows of your dataframe. You should see the original n value as well as n2."
   ]
  },
  {
   "cell_type": "code",
   "execution_count": 19,
   "id": "c54b22a9",
   "metadata": {},
   "outputs": [
    {
     "name": "stdout",
     "output_type": "stream",
     "text": [
      "+--------------------+-----+-----+--------------------+\n",
      "|                   n|group|abool|                  n2|\n",
      "+--------------------+-----+-----+--------------------+\n",
      "|  -0.712390662050588|    z|false|   0.712390662050588|\n",
      "|   0.753766378659703|    x|false|  -0.753766378659703|\n",
      "|-0.04450307833805...|    z|false|0.044503078338053455|\n",
      "| 0.45181233874578974|    y|false|-0.45181233874578974|\n",
      "+--------------------+-----+-----+--------------------+\n",
      "only showing top 4 rows\n",
      "\n"
     ]
    }
   ],
   "source": [
    "df = df.select('*', (df.n * -1).alias('n2'))\n",
    "df.show(4)"
   ]
  },
  {
   "cell_type": "markdown",
   "id": "9953488d",
   "metadata": {},
   "source": [
    "vi. Add a new column named n3 that is the n value squared. Show the first 5 rows of your dataframe. You should see both n, n2, and n3."
   ]
  },
  {
   "cell_type": "code",
   "execution_count": 20,
   "id": "70168fa8",
   "metadata": {},
   "outputs": [
    {
     "name": "stdout",
     "output_type": "stream",
     "text": [
      "+--------------------+-----+-----+--------------------+--------------------+\n",
      "|                   n|group|abool|                  n2|                  n3|\n",
      "+--------------------+-----+-----+--------------------+--------------------+\n",
      "|  -0.712390662050588|    z|false|   0.712390662050588|   0.507500455376875|\n",
      "|   0.753766378659703|    x|false|  -0.753766378659703|  0.5681637535977627|\n",
      "|-0.04450307833805...|    z|false|0.044503078338053455|0.001980523981562...|\n",
      "| 0.45181233874578974|    y|false|-0.45181233874578974| 0.20413438944294027|\n",
      "|  1.3451017084510097|    z|false| -1.3451017084510097|  1.8092986060778251|\n",
      "+--------------------+-----+-----+--------------------+--------------------+\n",
      "only showing top 5 rows\n",
      "\n"
     ]
    }
   ],
   "source": [
    "df = df.select('*', (df.n * df.n).alias('n3'))\n",
    "df.show(5)"
   ]
  },
  {
   "cell_type": "markdown",
   "id": "9d1dc431",
   "metadata": {},
   "source": [
    "vii. What happens when you run the code below?"
   ]
  },
  {
   "cell_type": "code",
   "execution_count": 21,
   "id": "9da1e93a",
   "metadata": {},
   "outputs": [
    {
     "data": {
      "text/plain": [
       "Column<'(group + abool)'>"
      ]
     },
     "execution_count": 21,
     "metadata": {},
     "output_type": "execute_result"
    }
   ],
   "source": [
    "df.group + df.abool\n"
   ]
  },
  {
   "cell_type": "markdown",
   "id": "e947f7f9",
   "metadata": {},
   "source": [
    "- A column is create that adds the contents of group and abool"
   ]
  },
  {
   "cell_type": "markdown",
   "id": "88edb97f",
   "metadata": {},
   "source": [
    "viii. What happens when you run the code below? What is the difference between this and the previous code sample?\n",
    "\n"
   ]
  },
  {
   "cell_type": "code",
   "execution_count": 22,
   "id": "82ad5969",
   "metadata": {},
   "outputs": [
    {
     "ename": "AnalysisException",
     "evalue": "cannot resolve '(CAST(group AS DOUBLE) + abool)' due to data type mismatch: differing types in '(CAST(group AS DOUBLE) + abool)' (double and boolean).;\n'Project [unresolvedalias((cast(group#1 as double) + abool#2), Some(org.apache.spark.sql.Column$$Lambda$3175/0x0000000801364040@7b873e8e))]\n+- Project [n#0, group#1, abool#2, n2#241, (n#0 * n#0) AS n3#263]\n   +- Project [n#0, group#1, abool#2, (n#0 * cast(-1 as double)) AS n2#241]\n      +- LogicalRDD [n#0, group#1, abool#2], false\n",
     "output_type": "error",
     "traceback": [
      "\u001b[0;31m---------------------------------------------------------------------------\u001b[0m",
      "\u001b[0;31mAnalysisException\u001b[0m                         Traceback (most recent call last)",
      "\u001b[0;32m<ipython-input-22-392aef8ccead>\u001b[0m in \u001b[0;36m<module>\u001b[0;34m\u001b[0m\n\u001b[0;32m----> 1\u001b[0;31m \u001b[0mdf\u001b[0m\u001b[0;34m.\u001b[0m\u001b[0mselect\u001b[0m\u001b[0;34m(\u001b[0m\u001b[0mdf\u001b[0m\u001b[0;34m.\u001b[0m\u001b[0mgroup\u001b[0m \u001b[0;34m+\u001b[0m \u001b[0mdf\u001b[0m\u001b[0;34m.\u001b[0m\u001b[0mabool\u001b[0m\u001b[0;34m)\u001b[0m\u001b[0;34m\u001b[0m\u001b[0;34m\u001b[0m\u001b[0m\n\u001b[0m",
      "\u001b[0;32m/opt/homebrew/anaconda3/lib/python3.8/site-packages/pyspark/sql/dataframe.py\u001b[0m in \u001b[0;36mselect\u001b[0;34m(self, *cols)\u001b[0m\n\u001b[1;32m   1683\u001b[0m         \u001b[0;34m[\u001b[0m\u001b[0mRow\u001b[0m\u001b[0;34m(\u001b[0m\u001b[0mname\u001b[0m\u001b[0;34m=\u001b[0m\u001b[0;34m'Alice'\u001b[0m\u001b[0;34m,\u001b[0m \u001b[0mage\u001b[0m\u001b[0;34m=\u001b[0m\u001b[0;36m12\u001b[0m\u001b[0;34m)\u001b[0m\u001b[0;34m,\u001b[0m \u001b[0mRow\u001b[0m\u001b[0;34m(\u001b[0m\u001b[0mname\u001b[0m\u001b[0;34m=\u001b[0m\u001b[0;34m'Bob'\u001b[0m\u001b[0;34m,\u001b[0m \u001b[0mage\u001b[0m\u001b[0;34m=\u001b[0m\u001b[0;36m15\u001b[0m\u001b[0;34m)\u001b[0m\u001b[0;34m]\u001b[0m\u001b[0;34m\u001b[0m\u001b[0;34m\u001b[0m\u001b[0m\n\u001b[1;32m   1684\u001b[0m         \"\"\"\n\u001b[0;32m-> 1685\u001b[0;31m         \u001b[0mjdf\u001b[0m \u001b[0;34m=\u001b[0m \u001b[0mself\u001b[0m\u001b[0;34m.\u001b[0m\u001b[0m_jdf\u001b[0m\u001b[0;34m.\u001b[0m\u001b[0mselect\u001b[0m\u001b[0;34m(\u001b[0m\u001b[0mself\u001b[0m\u001b[0;34m.\u001b[0m\u001b[0m_jcols\u001b[0m\u001b[0;34m(\u001b[0m\u001b[0;34m*\u001b[0m\u001b[0mcols\u001b[0m\u001b[0;34m)\u001b[0m\u001b[0;34m)\u001b[0m\u001b[0;34m\u001b[0m\u001b[0;34m\u001b[0m\u001b[0m\n\u001b[0m\u001b[1;32m   1686\u001b[0m         \u001b[0;32mreturn\u001b[0m \u001b[0mDataFrame\u001b[0m\u001b[0;34m(\u001b[0m\u001b[0mjdf\u001b[0m\u001b[0;34m,\u001b[0m \u001b[0mself\u001b[0m\u001b[0;34m.\u001b[0m\u001b[0msql_ctx\u001b[0m\u001b[0;34m)\u001b[0m\u001b[0;34m\u001b[0m\u001b[0;34m\u001b[0m\u001b[0m\n\u001b[1;32m   1687\u001b[0m \u001b[0;34m\u001b[0m\u001b[0m\n",
      "\u001b[0;32m/opt/homebrew/anaconda3/lib/python3.8/site-packages/py4j/java_gateway.py\u001b[0m in \u001b[0;36m__call__\u001b[0;34m(self, *args)\u001b[0m\n\u001b[1;32m   1307\u001b[0m \u001b[0;34m\u001b[0m\u001b[0m\n\u001b[1;32m   1308\u001b[0m         \u001b[0manswer\u001b[0m \u001b[0;34m=\u001b[0m \u001b[0mself\u001b[0m\u001b[0;34m.\u001b[0m\u001b[0mgateway_client\u001b[0m\u001b[0;34m.\u001b[0m\u001b[0msend_command\u001b[0m\u001b[0;34m(\u001b[0m\u001b[0mcommand\u001b[0m\u001b[0;34m)\u001b[0m\u001b[0;34m\u001b[0m\u001b[0;34m\u001b[0m\u001b[0m\n\u001b[0;32m-> 1309\u001b[0;31m         return_value = get_return_value(\n\u001b[0m\u001b[1;32m   1310\u001b[0m             answer, self.gateway_client, self.target_id, self.name)\n\u001b[1;32m   1311\u001b[0m \u001b[0;34m\u001b[0m\u001b[0m\n",
      "\u001b[0;32m/opt/homebrew/anaconda3/lib/python3.8/site-packages/pyspark/sql/utils.py\u001b[0m in \u001b[0;36mdeco\u001b[0;34m(*a, **kw)\u001b[0m\n\u001b[1;32m    115\u001b[0m                 \u001b[0;31m# Hide where the exception came from that shows a non-Pythonic\u001b[0m\u001b[0;34m\u001b[0m\u001b[0;34m\u001b[0m\u001b[0;34m\u001b[0m\u001b[0m\n\u001b[1;32m    116\u001b[0m                 \u001b[0;31m# JVM exception message.\u001b[0m\u001b[0;34m\u001b[0m\u001b[0;34m\u001b[0m\u001b[0;34m\u001b[0m\u001b[0m\n\u001b[0;32m--> 117\u001b[0;31m                 \u001b[0;32mraise\u001b[0m \u001b[0mconverted\u001b[0m \u001b[0;32mfrom\u001b[0m \u001b[0;32mNone\u001b[0m\u001b[0;34m\u001b[0m\u001b[0;34m\u001b[0m\u001b[0m\n\u001b[0m\u001b[1;32m    118\u001b[0m             \u001b[0;32melse\u001b[0m\u001b[0;34m:\u001b[0m\u001b[0;34m\u001b[0m\u001b[0;34m\u001b[0m\u001b[0m\n\u001b[1;32m    119\u001b[0m                 \u001b[0;32mraise\u001b[0m\u001b[0;34m\u001b[0m\u001b[0;34m\u001b[0m\u001b[0m\n",
      "\u001b[0;31mAnalysisException\u001b[0m: cannot resolve '(CAST(group AS DOUBLE) + abool)' due to data type mismatch: differing types in '(CAST(group AS DOUBLE) + abool)' (double and boolean).;\n'Project [unresolvedalias((cast(group#1 as double) + abool#2), Some(org.apache.spark.sql.Column$$Lambda$3175/0x0000000801364040@7b873e8e))]\n+- Project [n#0, group#1, abool#2, n2#241, (n#0 * n#0) AS n3#263]\n   +- Project [n#0, group#1, abool#2, (n#0 * cast(-1 as double)) AS n2#241]\n      +- LogicalRDD [n#0, group#1, abool#2], false\n"
     ]
    }
   ],
   "source": [
    "df.select(df.group + df.abool)"
   ]
  },
  {
   "cell_type": "markdown",
   "id": "ea76c26c",
   "metadata": {},
   "source": [
    "- We get an error because it's trying to add to mismatched types"
   ]
  },
  {
   "cell_type": "markdown",
   "id": "5a943379",
   "metadata": {},
   "source": [
    "ix. Try adding various other columns together. What are the results of combining the different data types?\n",
    "\n"
   ]
  },
  {
   "cell_type": "code",
   "execution_count": 24,
   "id": "8e7face3",
   "metadata": {},
   "outputs": [
    {
     "ename": "AnalysisException",
     "evalue": "cannot resolve '(CAST(group AS DOUBLE) + abool)' due to data type mismatch: differing types in '(CAST(group AS DOUBLE) + abool)' (double and boolean).;\n'Project [unresolvedalias(((cast(group#1 as double) + abool#2) + n#0), Some(org.apache.spark.sql.Column$$Lambda$3175/0x0000000801364040@7b873e8e))]\n+- Project [n#0, group#1, abool#2, n2#241, (n#0 * n#0) AS n3#263]\n   +- Project [n#0, group#1, abool#2, (n#0 * cast(-1 as double)) AS n2#241]\n      +- LogicalRDD [n#0, group#1, abool#2], false\n",
     "output_type": "error",
     "traceback": [
      "\u001b[0;31m---------------------------------------------------------------------------\u001b[0m",
      "\u001b[0;31mAnalysisException\u001b[0m                         Traceback (most recent call last)",
      "\u001b[0;32m<ipython-input-24-7f6976b96169>\u001b[0m in \u001b[0;36m<module>\u001b[0;34m\u001b[0m\n\u001b[0;32m----> 1\u001b[0;31m \u001b[0mdf\u001b[0m\u001b[0;34m.\u001b[0m\u001b[0mselect\u001b[0m\u001b[0;34m(\u001b[0m\u001b[0mdf\u001b[0m\u001b[0;34m.\u001b[0m\u001b[0mgroup\u001b[0m \u001b[0;34m+\u001b[0m \u001b[0mdf\u001b[0m\u001b[0;34m.\u001b[0m\u001b[0mabool\u001b[0m \u001b[0;34m+\u001b[0m \u001b[0mdf\u001b[0m\u001b[0;34m.\u001b[0m\u001b[0mn\u001b[0m\u001b[0;34m)\u001b[0m\u001b[0;34m\u001b[0m\u001b[0;34m\u001b[0m\u001b[0m\n\u001b[0m",
      "\u001b[0;32m/opt/homebrew/anaconda3/lib/python3.8/site-packages/pyspark/sql/dataframe.py\u001b[0m in \u001b[0;36mselect\u001b[0;34m(self, *cols)\u001b[0m\n\u001b[1;32m   1683\u001b[0m         \u001b[0;34m[\u001b[0m\u001b[0mRow\u001b[0m\u001b[0;34m(\u001b[0m\u001b[0mname\u001b[0m\u001b[0;34m=\u001b[0m\u001b[0;34m'Alice'\u001b[0m\u001b[0;34m,\u001b[0m \u001b[0mage\u001b[0m\u001b[0;34m=\u001b[0m\u001b[0;36m12\u001b[0m\u001b[0;34m)\u001b[0m\u001b[0;34m,\u001b[0m \u001b[0mRow\u001b[0m\u001b[0;34m(\u001b[0m\u001b[0mname\u001b[0m\u001b[0;34m=\u001b[0m\u001b[0;34m'Bob'\u001b[0m\u001b[0;34m,\u001b[0m \u001b[0mage\u001b[0m\u001b[0;34m=\u001b[0m\u001b[0;36m15\u001b[0m\u001b[0;34m)\u001b[0m\u001b[0;34m]\u001b[0m\u001b[0;34m\u001b[0m\u001b[0;34m\u001b[0m\u001b[0m\n\u001b[1;32m   1684\u001b[0m         \"\"\"\n\u001b[0;32m-> 1685\u001b[0;31m         \u001b[0mjdf\u001b[0m \u001b[0;34m=\u001b[0m \u001b[0mself\u001b[0m\u001b[0;34m.\u001b[0m\u001b[0m_jdf\u001b[0m\u001b[0;34m.\u001b[0m\u001b[0mselect\u001b[0m\u001b[0;34m(\u001b[0m\u001b[0mself\u001b[0m\u001b[0;34m.\u001b[0m\u001b[0m_jcols\u001b[0m\u001b[0;34m(\u001b[0m\u001b[0;34m*\u001b[0m\u001b[0mcols\u001b[0m\u001b[0;34m)\u001b[0m\u001b[0;34m)\u001b[0m\u001b[0;34m\u001b[0m\u001b[0;34m\u001b[0m\u001b[0m\n\u001b[0m\u001b[1;32m   1686\u001b[0m         \u001b[0;32mreturn\u001b[0m \u001b[0mDataFrame\u001b[0m\u001b[0;34m(\u001b[0m\u001b[0mjdf\u001b[0m\u001b[0;34m,\u001b[0m \u001b[0mself\u001b[0m\u001b[0;34m.\u001b[0m\u001b[0msql_ctx\u001b[0m\u001b[0;34m)\u001b[0m\u001b[0;34m\u001b[0m\u001b[0;34m\u001b[0m\u001b[0m\n\u001b[1;32m   1687\u001b[0m \u001b[0;34m\u001b[0m\u001b[0m\n",
      "\u001b[0;32m/opt/homebrew/anaconda3/lib/python3.8/site-packages/py4j/java_gateway.py\u001b[0m in \u001b[0;36m__call__\u001b[0;34m(self, *args)\u001b[0m\n\u001b[1;32m   1307\u001b[0m \u001b[0;34m\u001b[0m\u001b[0m\n\u001b[1;32m   1308\u001b[0m         \u001b[0manswer\u001b[0m \u001b[0;34m=\u001b[0m \u001b[0mself\u001b[0m\u001b[0;34m.\u001b[0m\u001b[0mgateway_client\u001b[0m\u001b[0;34m.\u001b[0m\u001b[0msend_command\u001b[0m\u001b[0;34m(\u001b[0m\u001b[0mcommand\u001b[0m\u001b[0;34m)\u001b[0m\u001b[0;34m\u001b[0m\u001b[0;34m\u001b[0m\u001b[0m\n\u001b[0;32m-> 1309\u001b[0;31m         return_value = get_return_value(\n\u001b[0m\u001b[1;32m   1310\u001b[0m             answer, self.gateway_client, self.target_id, self.name)\n\u001b[1;32m   1311\u001b[0m \u001b[0;34m\u001b[0m\u001b[0m\n",
      "\u001b[0;32m/opt/homebrew/anaconda3/lib/python3.8/site-packages/pyspark/sql/utils.py\u001b[0m in \u001b[0;36mdeco\u001b[0;34m(*a, **kw)\u001b[0m\n\u001b[1;32m    115\u001b[0m                 \u001b[0;31m# Hide where the exception came from that shows a non-Pythonic\u001b[0m\u001b[0;34m\u001b[0m\u001b[0;34m\u001b[0m\u001b[0;34m\u001b[0m\u001b[0m\n\u001b[1;32m    116\u001b[0m                 \u001b[0;31m# JVM exception message.\u001b[0m\u001b[0;34m\u001b[0m\u001b[0;34m\u001b[0m\u001b[0;34m\u001b[0m\u001b[0m\n\u001b[0;32m--> 117\u001b[0;31m                 \u001b[0;32mraise\u001b[0m \u001b[0mconverted\u001b[0m \u001b[0;32mfrom\u001b[0m \u001b[0;32mNone\u001b[0m\u001b[0;34m\u001b[0m\u001b[0;34m\u001b[0m\u001b[0m\n\u001b[0m\u001b[1;32m    118\u001b[0m             \u001b[0;32melse\u001b[0m\u001b[0;34m:\u001b[0m\u001b[0;34m\u001b[0m\u001b[0;34m\u001b[0m\u001b[0m\n\u001b[1;32m    119\u001b[0m                 \u001b[0;32mraise\u001b[0m\u001b[0;34m\u001b[0m\u001b[0;34m\u001b[0m\u001b[0m\n",
      "\u001b[0;31mAnalysisException\u001b[0m: cannot resolve '(CAST(group AS DOUBLE) + abool)' due to data type mismatch: differing types in '(CAST(group AS DOUBLE) + abool)' (double and boolean).;\n'Project [unresolvedalias(((cast(group#1 as double) + abool#2) + n#0), Some(org.apache.spark.sql.Column$$Lambda$3175/0x0000000801364040@7b873e8e))]\n+- Project [n#0, group#1, abool#2, n2#241, (n#0 * n#0) AS n3#263]\n   +- Project [n#0, group#1, abool#2, (n#0 * cast(-1 as double)) AS n2#241]\n      +- LogicalRDD [n#0, group#1, abool#2], false\n"
     ]
    }
   ],
   "source": [
    "df.select(df.group + df.abool + df.n)"
   ]
  },
  {
   "cell_type": "markdown",
   "id": "9ca1791d",
   "metadata": {},
   "source": [
    "- We get the same error as before due to mismatched data types"
   ]
  },
  {
   "cell_type": "markdown",
   "id": "5386127e",
   "metadata": {},
   "source": [
    "3. Type casting\n",
    "\n",
    "   i. Use the starter code above to re-create a spark dataframe.\n",
    "   \n",
    "   ii. Use .printSchema to view the datatypes in your dataframe."
   ]
  },
  {
   "cell_type": "code",
   "execution_count": 25,
   "id": "b7da9628",
   "metadata": {},
   "outputs": [
    {
     "name": "stdout",
     "output_type": "stream",
     "text": [
      "root\n",
      " |-- n: double (nullable = true)\n",
      " |-- group: string (nullable = true)\n",
      " |-- abool: boolean (nullable = true)\n",
      " |-- n2: double (nullable = true)\n",
      " |-- n3: double (nullable = true)\n",
      "\n"
     ]
    }
   ],
   "source": [
    "df.printSchema()\n"
   ]
  },
  {
   "cell_type": "markdown",
   "id": "4a512078",
   "metadata": {},
   "source": [
    "iii. Use .dtypes to view the datatypes in your dataframe.\n",
    "\n"
   ]
  },
  {
   "cell_type": "code",
   "execution_count": 26,
   "id": "77e1b44d",
   "metadata": {},
   "outputs": [
    {
     "data": {
      "text/plain": [
       "[('n', 'double'),\n",
       " ('group', 'string'),\n",
       " ('abool', 'boolean'),\n",
       " ('n2', 'double'),\n",
       " ('n3', 'double')]"
      ]
     },
     "execution_count": 26,
     "metadata": {},
     "output_type": "execute_result"
    }
   ],
   "source": [
    "df.dtypes"
   ]
  },
  {
   "cell_type": "markdown",
   "id": "f9e1b7ad",
   "metadata": {},
   "source": [
    "iv. What is the difference between the two code samples below?\n",
    "\n"
   ]
  },
  {
   "cell_type": "code",
   "execution_count": 27,
   "id": "688148ef",
   "metadata": {},
   "outputs": [
    {
     "data": {
      "text/plain": [
       "Column<'CAST(abool AS INT)'>"
      ]
     },
     "execution_count": 27,
     "metadata": {},
     "output_type": "execute_result"
    }
   ],
   "source": [
    "df.abool.cast('int')"
   ]
  },
  {
   "cell_type": "code",
   "execution_count": 28,
   "id": "bee8d8b1",
   "metadata": {},
   "outputs": [
    {
     "name": "stdout",
     "output_type": "stream",
     "text": [
      "+-----+\n",
      "|abool|\n",
      "+-----+\n",
      "|    0|\n",
      "|    0|\n",
      "|    0|\n",
      "|    0|\n",
      "|    0|\n",
      "|    0|\n",
      "|    0|\n",
      "|    0|\n",
      "|    1|\n",
      "|    1|\n",
      "|    0|\n",
      "|    0|\n",
      "|    1|\n",
      "|    1|\n",
      "|    0|\n",
      "|    0|\n",
      "|    0|\n",
      "|    1|\n",
      "|    0|\n",
      "|    1|\n",
      "+-----+\n",
      "\n"
     ]
    }
   ],
   "source": [
    "df.select(df.abool.cast('int')).show()\n"
   ]
  },
  {
   "cell_type": "markdown",
   "id": "8499c35a",
   "metadata": {},
   "source": [
    "- One creates a Column and one is using that same column in a .select in order to view the results of the cast.\n",
    "\n"
   ]
  },
  {
   "cell_type": "markdown",
   "id": "d87f7439",
   "metadata": {},
   "source": [
    "v. Use .select and .cast to convert the abool column to an integer type. View the results.\n",
    "\n"
   ]
  },
  {
   "cell_type": "code",
   "execution_count": 29,
   "id": "f0e38a50",
   "metadata": {},
   "outputs": [
    {
     "name": "stdout",
     "output_type": "stream",
     "text": [
      "+-----+-----+\n",
      "|abool|abool|\n",
      "+-----+-----+\n",
      "|false|    0|\n",
      "|false|    0|\n",
      "|false|    0|\n",
      "|false|    0|\n",
      "|false|    0|\n",
      "|false|    0|\n",
      "|false|    0|\n",
      "|false|    0|\n",
      "| true|    1|\n",
      "| true|    1|\n",
      "|false|    0|\n",
      "|false|    0|\n",
      "| true|    1|\n",
      "| true|    1|\n",
      "|false|    0|\n",
      "|false|    0|\n",
      "|false|    0|\n",
      "| true|    1|\n",
      "|false|    0|\n",
      "| true|    1|\n",
      "+-----+-----+\n",
      "\n"
     ]
    }
   ],
   "source": [
    "df.select('abool', df.abool.cast('int')).show()\n"
   ]
  },
  {
   "cell_type": "markdown",
   "id": "8f1b4f7e",
   "metadata": {},
   "source": [
    "vi. Convert the group column to a integer data type and view the results. What happens?\n",
    "\n"
   ]
  },
  {
   "cell_type": "code",
   "execution_count": 30,
   "id": "746faebc",
   "metadata": {},
   "outputs": [
    {
     "name": "stdout",
     "output_type": "stream",
     "text": [
      "+-----+-----+\n",
      "|group|group|\n",
      "+-----+-----+\n",
      "|    z| null|\n",
      "|    x| null|\n",
      "|    z| null|\n",
      "|    y| null|\n",
      "|    z| null|\n",
      "|    y| null|\n",
      "|    z| null|\n",
      "|    x| null|\n",
      "|    z| null|\n",
      "|    y| null|\n",
      "|    x| null|\n",
      "|    y| null|\n",
      "|    y| null|\n",
      "|    y| null|\n",
      "|    y| null|\n",
      "|    x| null|\n",
      "|    z| null|\n",
      "|    y| null|\n",
      "|    x| null|\n",
      "|    x| null|\n",
      "+-----+-----+\n",
      "\n"
     ]
    }
   ],
   "source": [
    "df.select('group', df.group.cast('int')).show()\n"
   ]
  },
  {
   "cell_type": "markdown",
   "id": "6b59ef1a",
   "metadata": {},
   "source": [
    "- The values are converted to nulls"
   ]
  },
  {
   "cell_type": "markdown",
   "id": "a092d007",
   "metadata": {},
   "source": [
    "vii. Convert the n column to a integer data type and view the results. What happens?\n",
    "\n"
   ]
  },
  {
   "cell_type": "code",
   "execution_count": 32,
   "id": "a6f11617",
   "metadata": {},
   "outputs": [
    {
     "name": "stdout",
     "output_type": "stream",
     "text": [
      "+--------------------+---+\n",
      "|                   n|  n|\n",
      "+--------------------+---+\n",
      "|  -0.712390662050588|  0|\n",
      "|   0.753766378659703|  0|\n",
      "|-0.04450307833805...|  0|\n",
      "| 0.45181233874578974|  0|\n",
      "|  1.3451017084510097|  1|\n",
      "|  0.5323378882945463|  0|\n",
      "|  1.3501878997225267|  1|\n",
      "|  0.8612113741693206|  0|\n",
      "|  1.4786857374358966|  1|\n",
      "| -1.0453771305385342| -1|\n",
      "| -0.7889890249515489|  0|\n",
      "|  -1.261605945319069| -1|\n",
      "|  0.5628467852810314|  0|\n",
      "|-0.24332625188556253|  0|\n",
      "|  0.9137407048596775|  0|\n",
      "| 0.31735092273633597|  0|\n",
      "| 0.12730328020698067|  0|\n",
      "|  2.1503829673811126|  2|\n",
      "|  0.6062886568962988|  0|\n",
      "|-0.02677164998644...|  0|\n",
      "+--------------------+---+\n",
      "\n"
     ]
    }
   ],
   "source": [
    "df.select('n', df.n.cast('int')).show()\n"
   ]
  },
  {
   "cell_type": "markdown",
   "id": "9f769454",
   "metadata": {},
   "source": [
    "- It truncates to the nearest integer"
   ]
  },
  {
   "cell_type": "markdown",
   "id": "d807e915",
   "metadata": {},
   "source": [
    "viii. Convert the abool column to a string data type and view the results. What happens?\n",
    "\n"
   ]
  },
  {
   "cell_type": "code",
   "execution_count": 33,
   "id": "90a5930d",
   "metadata": {},
   "outputs": [
    {
     "name": "stdout",
     "output_type": "stream",
     "text": [
      "+-----+-----+\n",
      "|abool|abool|\n",
      "+-----+-----+\n",
      "|false|false|\n",
      "|false|false|\n",
      "|false|false|\n",
      "|false|false|\n",
      "|false|false|\n",
      "|false|false|\n",
      "|false|false|\n",
      "|false|false|\n",
      "| true| true|\n",
      "| true| true|\n",
      "|false|false|\n",
      "|false|false|\n",
      "| true| true|\n",
      "| true| true|\n",
      "|false|false|\n",
      "|false|false|\n",
      "|false|false|\n",
      "| true| true|\n",
      "|false|false|\n",
      "| true| true|\n",
      "+-----+-----+\n",
      "\n"
     ]
    }
   ],
   "source": [
    "df.select('abool', df.abool.cast('string')).show()\n"
   ]
  },
  {
   "cell_type": "markdown",
   "id": "7a513292",
   "metadata": {},
   "source": [
    "- It appears the same but it changes the type to string."
   ]
  },
  {
   "cell_type": "markdown",
   "id": "5e32b7ea",
   "metadata": {},
   "source": [
    "4. Built-in Functions\n",
    "\n",
    "     i. Use the starter code above to re-create a spark dataframe.\n",
    "\n",
    "     ii. Import the necessary functions from pyspark.sql.functions"
   ]
  },
  {
   "cell_type": "code",
   "execution_count": 34,
   "id": "61205a0b",
   "metadata": {},
   "outputs": [],
   "source": [
    "from pyspark.sql.functions import *\n"
   ]
  },
  {
   "cell_type": "markdown",
   "id": "e8c33459",
   "metadata": {},
   "source": [
    "   i. Find the highest n value.\n",
    "\n",
    "   ii. Find the lowest n value.\n",
    "\n",
    "   iii. Find the average n value."
   ]
  },
  {
   "cell_type": "code",
   "execution_count": 35,
   "id": "c52b38a6",
   "metadata": {},
   "outputs": [
    {
     "name": "stdout",
     "output_type": "stream",
     "text": [
      "+------------------+------------------+------------------+\n",
      "|            max(n)|            min(n)|            avg(n)|\n",
      "+------------------+------------------+------------------+\n",
      "|2.1503829673811126|-1.261605945319069|0.3664026449885217|\n",
      "+------------------+------------------+------------------+\n",
      "\n"
     ]
    }
   ],
   "source": [
    "df.select(max('n'), min('n'), mean('n')).show()"
   ]
  },
  {
   "cell_type": "markdown",
   "id": "6e283317",
   "metadata": {},
   "source": [
    "vi. Use concat to change the group column to say, e.g. \"Group: x\" or \"Group: y\"\n",
    "\n"
   ]
  },
  {
   "cell_type": "code",
   "execution_count": 37,
   "id": "570abe0b",
   "metadata": {},
   "outputs": [
    {
     "data": {
      "text/plain": [
       "DataFrame[concat(Group: , group): string]"
      ]
     },
     "execution_count": 37,
     "metadata": {},
     "output_type": "execute_result"
    }
   ],
   "source": [
    "df.select(concat(lit('Group: '), 'group'))\n"
   ]
  },
  {
   "cell_type": "markdown",
   "id": "ae08cb39",
   "metadata": {},
   "source": [
    "vii. Use concat to combine the n and group columns to produce results that look like this: \"x: -1.432\" or \"z: 2.352\"\n",
    "\n"
   ]
  },
  {
   "cell_type": "code",
   "execution_count": 38,
   "id": "4f854a82",
   "metadata": {},
   "outputs": [
    {
     "name": "stdout",
     "output_type": "stream",
     "text": [
      "+--------------------+\n",
      "|concat(group, : , n)|\n",
      "+--------------------+\n",
      "|z: -0.71239066205...|\n",
      "|x: 0.753766378659703|\n",
      "|z: -0.04450307833...|\n",
      "|y: 0.451812338745...|\n",
      "|z: 1.345101708451...|\n",
      "|y: 0.532337888294...|\n",
      "|z: 1.350187899722...|\n",
      "|x: 0.861211374169...|\n",
      "|z: 1.478685737435...|\n",
      "|y: -1.04537713053...|\n",
      "|x: -0.78898902495...|\n",
      "|y: -1.26160594531...|\n",
      "|y: 0.562846785281...|\n",
      "|y: -0.24332625188...|\n",
      "|y: 0.913740704859...|\n",
      "|x: 0.317350922736...|\n",
      "|z: 0.127303280206...|\n",
      "|y: 2.150382967381...|\n",
      "|x: 0.606288656896...|\n",
      "|x: -0.02677164998...|\n",
      "+--------------------+\n",
      "\n"
     ]
    }
   ],
   "source": [
    "df.select(concat('group', lit(': '), 'n')).show()\n"
   ]
  },
  {
   "cell_type": "markdown",
   "id": "c5e11fed",
   "metadata": {},
   "source": [
    "5. When / Otherwise\n",
    "\n",
    "    i. Use the starter code above to re-create a spark dataframe.\n",
    "\n",
    "    ii. Use when and .otherwise to create a column that contains the text \"It is true\" when abool is true and \"It is false\"\" when abool is false."
   ]
  },
  {
   "cell_type": "code",
   "execution_count": 39,
   "id": "ef58c760",
   "metadata": {},
   "outputs": [
    {
     "name": "stdout",
     "output_type": "stream",
     "text": [
      "+----------------------------------------------------+\n",
      "|CASE WHEN abool THEN It is true ELSE It is false END|\n",
      "+----------------------------------------------------+\n",
      "|                                         It is false|\n",
      "|                                         It is false|\n",
      "|                                         It is false|\n",
      "|                                         It is false|\n",
      "|                                         It is false|\n",
      "|                                         It is false|\n",
      "|                                         It is false|\n",
      "|                                         It is false|\n",
      "|                                          It is true|\n",
      "|                                          It is true|\n",
      "|                                         It is false|\n",
      "|                                         It is false|\n",
      "|                                          It is true|\n",
      "|                                          It is true|\n",
      "|                                         It is false|\n",
      "|                                         It is false|\n",
      "|                                         It is false|\n",
      "|                                          It is true|\n",
      "|                                         It is false|\n",
      "|                                          It is true|\n",
      "+----------------------------------------------------+\n",
      "\n"
     ]
    }
   ],
   "source": [
    "df.select(when(df.abool, 'It is true').otherwise('It is false')).show()\n"
   ]
  },
  {
   "cell_type": "markdown",
   "id": "cbd3d3ad",
   "metadata": {},
   "source": [
    "   iii. Create a column that contains 0 if n is less than 0, otherwise, the original n value.\n",
    "\n"
   ]
  },
  {
   "cell_type": "code",
   "execution_count": 40,
   "id": "cccca39b",
   "metadata": {},
   "outputs": [
    {
     "name": "stdout",
     "output_type": "stream",
     "text": [
      "+--------------------+-----------------------------------+\n",
      "|                   n|CASE WHEN (n < 0) THEN 0 ELSE n END|\n",
      "+--------------------+-----------------------------------+\n",
      "|  -0.712390662050588|                                0.0|\n",
      "|   0.753766378659703|                  0.753766378659703|\n",
      "|-0.04450307833805...|                                0.0|\n",
      "| 0.45181233874578974|                0.45181233874578974|\n",
      "|  1.3451017084510097|                 1.3451017084510097|\n",
      "|  0.5323378882945463|                 0.5323378882945463|\n",
      "|  1.3501878997225267|                 1.3501878997225267|\n",
      "|  0.8612113741693206|                 0.8612113741693206|\n",
      "|  1.4786857374358966|                 1.4786857374358966|\n",
      "| -1.0453771305385342|                                0.0|\n",
      "| -0.7889890249515489|                                0.0|\n",
      "|  -1.261605945319069|                                0.0|\n",
      "|  0.5628467852810314|                 0.5628467852810314|\n",
      "|-0.24332625188556253|                                0.0|\n",
      "|  0.9137407048596775|                 0.9137407048596775|\n",
      "| 0.31735092273633597|                0.31735092273633597|\n",
      "| 0.12730328020698067|                0.12730328020698067|\n",
      "|  2.1503829673811126|                 2.1503829673811126|\n",
      "|  0.6062886568962988|                 0.6062886568962988|\n",
      "|-0.02677164998644...|                                0.0|\n",
      "+--------------------+-----------------------------------+\n",
      "\n"
     ]
    }
   ],
   "source": [
    "df.select('n', when(df.n < 0, 0).otherwise(df.n)).show()\n",
    "\n"
   ]
  },
  {
   "cell_type": "markdown",
   "id": "4d8246ba",
   "metadata": {},
   "source": [
    "6. Filter / Where\n",
    "\n",
    "    i. Use the starter code above to re-create a spark dataframe.\n",
    "    \n",
    "    ii. Use .filter or .where to select just the rows where the group is y and view the results."
   ]
  },
  {
   "cell_type": "code",
   "execution_count": 41,
   "id": "fd34c725",
   "metadata": {},
   "outputs": [
    {
     "name": "stdout",
     "output_type": "stream",
     "text": [
      "+--------------------+-----+-----+--------------------+-------------------+\n",
      "|                   n|group|abool|                  n2|                 n3|\n",
      "+--------------------+-----+-----+--------------------+-------------------+\n",
      "| 0.45181233874578974|    y|false|-0.45181233874578974|0.20413438944294027|\n",
      "|  0.5323378882945463|    y|false| -0.5323378882945463| 0.2833836273138969|\n",
      "| -1.0453771305385342|    y| true|  1.0453771305385342| 1.0928133450529796|\n",
      "|  -1.261605945319069|    y|false|   1.261605945319069|  1.591649561264422|\n",
      "|  0.5628467852810314|    y| true| -0.5628467852810314|0.31679650370119145|\n",
      "|-0.24332625188556253|    y| true| 0.24332625188556253|0.05920766485667622|\n",
      "|  0.9137407048596775|    y|false| -0.9137407048596775| 0.8349220757174602|\n",
      "|  2.1503829673811126|    y| true| -2.1503829673811126|  4.624146906402799|\n",
      "+--------------------+-----+-----+--------------------+-------------------+\n",
      "\n"
     ]
    }
   ],
   "source": [
    "df.filter(df.group == 'y').show()\n"
   ]
  },
  {
   "cell_type": "markdown",
   "id": "abe60d43",
   "metadata": {},
   "source": [
    "iii. Select just the columns where the abool column is false and view the results.\n",
    "\n"
   ]
  },
  {
   "cell_type": "code",
   "execution_count": 42,
   "id": "fe66d30b",
   "metadata": {},
   "outputs": [
    {
     "name": "stdout",
     "output_type": "stream",
     "text": [
      "+--------------------+-----+-----+--------------------+--------------------+\n",
      "|                   n|group|abool|                  n2|                  n3|\n",
      "+--------------------+-----+-----+--------------------+--------------------+\n",
      "|  -0.712390662050588|    z|false|   0.712390662050588|   0.507500455376875|\n",
      "|   0.753766378659703|    x|false|  -0.753766378659703|  0.5681637535977627|\n",
      "|-0.04450307833805...|    z|false|0.044503078338053455|0.001980523981562...|\n",
      "| 0.45181233874578974|    y|false|-0.45181233874578974| 0.20413438944294027|\n",
      "|  1.3451017084510097|    z|false| -1.3451017084510097|  1.8092986060778251|\n",
      "|  0.5323378882945463|    y|false| -0.5323378882945463|  0.2833836273138969|\n",
      "|  1.3501878997225267|    z|false| -1.3501878997225267|  1.8230073645571279|\n",
      "|  0.8612113741693206|    x|false| -0.8612113741693206|  0.7416850309986095|\n",
      "| -0.7889890249515489|    x|false|  0.7889890249515489|  0.6225036814939958|\n",
      "|  -1.261605945319069|    y|false|   1.261605945319069|   1.591649561264422|\n",
      "|  0.9137407048596775|    y|false| -0.9137407048596775|  0.8349220757174602|\n",
      "| 0.31735092273633597|    x|false|-0.31735092273633597| 0.10071160816160388|\n",
      "| 0.12730328020698067|    z|false|-0.12730328020698067|0.016206125151457036|\n",
      "|  0.6062886568962988|    x|false| -0.6062886568962988|   0.367585935481118|\n",
      "+--------------------+-----+-----+--------------------+--------------------+\n",
      "\n"
     ]
    }
   ],
   "source": [
    "df.filter(df.abool == False).show()\n"
   ]
  },
  {
   "cell_type": "markdown",
   "id": "3e6f8e9b",
   "metadata": {},
   "source": [
    "iv. Find the columns where the group column is not y."
   ]
  },
  {
   "cell_type": "code",
   "execution_count": 43,
   "id": "10135db0",
   "metadata": {},
   "outputs": [
    {
     "name": "stdout",
     "output_type": "stream",
     "text": [
      "+--------------------+-----+-----+--------------------+--------------------+\n",
      "|                   n|group|abool|                  n2|                  n3|\n",
      "+--------------------+-----+-----+--------------------+--------------------+\n",
      "|  -0.712390662050588|    z|false|   0.712390662050588|   0.507500455376875|\n",
      "|   0.753766378659703|    x|false|  -0.753766378659703|  0.5681637535977627|\n",
      "|-0.04450307833805...|    z|false|0.044503078338053455|0.001980523981562...|\n",
      "|  1.3451017084510097|    z|false| -1.3451017084510097|  1.8092986060778251|\n",
      "|  1.3501878997225267|    z|false| -1.3501878997225267|  1.8230073645571279|\n",
      "|  0.8612113741693206|    x|false| -0.8612113741693206|  0.7416850309986095|\n",
      "|  1.4786857374358966|    z| true| -1.4786857374358966|  2.1865115100963415|\n",
      "| -0.7889890249515489|    x|false|  0.7889890249515489|  0.6225036814939958|\n",
      "| 0.31735092273633597|    x|false|-0.31735092273633597| 0.10071160816160388|\n",
      "| 0.12730328020698067|    z|false|-0.12730328020698067|0.016206125151457036|\n",
      "|  0.6062886568962988|    x|false| -0.6062886568962988|   0.367585935481118|\n",
      "|-0.02677164998644...|    x| true|0.026771649986440726|7.167212429964917E-4|\n",
      "+--------------------+-----+-----+--------------------+--------------------+\n",
      "\n"
     ]
    }
   ],
   "source": [
    "df.filter(df.group != 'y').show()\n"
   ]
  },
  {
   "cell_type": "markdown",
   "id": "e0276ae6",
   "metadata": {},
   "source": [
    "v. Find the columns where n is positive."
   ]
  },
  {
   "cell_type": "code",
   "execution_count": 44,
   "id": "712831a5",
   "metadata": {},
   "outputs": [
    {
     "name": "stdout",
     "output_type": "stream",
     "text": [
      "+-------------------+-----+-----+--------------------+--------------------+\n",
      "|                  n|group|abool|                  n2|                  n3|\n",
      "+-------------------+-----+-----+--------------------+--------------------+\n",
      "|  0.753766378659703|    x|false|  -0.753766378659703|  0.5681637535977627|\n",
      "|0.45181233874578974|    y|false|-0.45181233874578974| 0.20413438944294027|\n",
      "| 1.3451017084510097|    z|false| -1.3451017084510097|  1.8092986060778251|\n",
      "| 0.5323378882945463|    y|false| -0.5323378882945463|  0.2833836273138969|\n",
      "| 1.3501878997225267|    z|false| -1.3501878997225267|  1.8230073645571279|\n",
      "| 0.8612113741693206|    x|false| -0.8612113741693206|  0.7416850309986095|\n",
      "| 1.4786857374358966|    z| true| -1.4786857374358966|  2.1865115100963415|\n",
      "| 0.5628467852810314|    y| true| -0.5628467852810314| 0.31679650370119145|\n",
      "| 0.9137407048596775|    y|false| -0.9137407048596775|  0.8349220757174602|\n",
      "|0.31735092273633597|    x|false|-0.31735092273633597| 0.10071160816160388|\n",
      "|0.12730328020698067|    z|false|-0.12730328020698067|0.016206125151457036|\n",
      "| 2.1503829673811126|    y| true| -2.1503829673811126|   4.624146906402799|\n",
      "| 0.6062886568962988|    x|false| -0.6062886568962988|   0.367585935481118|\n",
      "+-------------------+-----+-----+--------------------+--------------------+\n",
      "\n"
     ]
    }
   ],
   "source": [
    "df.filter(df.n > 0).show()\n"
   ]
  },
  {
   "cell_type": "markdown",
   "id": "5eee0b60",
   "metadata": {},
   "source": [
    "vi. Find the columns where abool is true and the group column is z."
   ]
  },
  {
   "cell_type": "code",
   "execution_count": 45,
   "id": "e83ae9e0",
   "metadata": {},
   "outputs": [
    {
     "name": "stdout",
     "output_type": "stream",
     "text": [
      "+------------------+-----+-----+-------------------+------------------+\n",
      "|                 n|group|abool|                 n2|                n3|\n",
      "+------------------+-----+-----+-------------------+------------------+\n",
      "|1.4786857374358966|    z| true|-1.4786857374358966|2.1865115100963415|\n",
      "+------------------+-----+-----+-------------------+------------------+\n",
      "\n"
     ]
    }
   ],
   "source": [
    "df.filter(df.abool & (df.group == 'z')).show()\n"
   ]
  },
  {
   "cell_type": "markdown",
   "id": "fb33757b",
   "metadata": {},
   "source": [
    "vii. Find the columns where abool is true or the group column is z."
   ]
  },
  {
   "cell_type": "code",
   "execution_count": 46,
   "id": "230f4cf0",
   "metadata": {},
   "outputs": [
    {
     "name": "stdout",
     "output_type": "stream",
     "text": [
      "+--------------------+-----+-----+--------------------+--------------------+\n",
      "|                   n|group|abool|                  n2|                  n3|\n",
      "+--------------------+-----+-----+--------------------+--------------------+\n",
      "|  -0.712390662050588|    z|false|   0.712390662050588|   0.507500455376875|\n",
      "|-0.04450307833805...|    z|false|0.044503078338053455|0.001980523981562...|\n",
      "|  1.3451017084510097|    z|false| -1.3451017084510097|  1.8092986060778251|\n",
      "|  1.3501878997225267|    z|false| -1.3501878997225267|  1.8230073645571279|\n",
      "|  1.4786857374358966|    z| true| -1.4786857374358966|  2.1865115100963415|\n",
      "| -1.0453771305385342|    y| true|  1.0453771305385342|  1.0928133450529796|\n",
      "|  0.5628467852810314|    y| true| -0.5628467852810314| 0.31679650370119145|\n",
      "|-0.24332625188556253|    y| true| 0.24332625188556253| 0.05920766485667622|\n",
      "| 0.12730328020698067|    z|false|-0.12730328020698067|0.016206125151457036|\n",
      "|  2.1503829673811126|    y| true| -2.1503829673811126|   4.624146906402799|\n",
      "|-0.02677164998644...|    x| true|0.026771649986440726|7.167212429964917E-4|\n",
      "+--------------------+-----+-----+--------------------+--------------------+\n",
      "\n"
     ]
    }
   ],
   "source": [
    "df.filter(df.abool | (df.group == 'z')).show()\n"
   ]
  },
  {
   "cell_type": "markdown",
   "id": "2868c950",
   "metadata": {},
   "source": [
    "viii. Find the columns where abool is false and n is less than 1"
   ]
  },
  {
   "cell_type": "code",
   "execution_count": 48,
   "id": "af8db6fe",
   "metadata": {},
   "outputs": [
    {
     "name": "stdout",
     "output_type": "stream",
     "text": [
      "+--------------------+-----+-----+--------------------+--------------------+\n",
      "|                   n|group|abool|                  n2|                  n3|\n",
      "+--------------------+-----+-----+--------------------+--------------------+\n",
      "|  -0.712390662050588|    z|false|   0.712390662050588|   0.507500455376875|\n",
      "|   0.753766378659703|    x|false|  -0.753766378659703|  0.5681637535977627|\n",
      "|-0.04450307833805...|    z|false|0.044503078338053455|0.001980523981562...|\n",
      "| 0.45181233874578974|    y|false|-0.45181233874578974| 0.20413438944294027|\n",
      "|  0.5323378882945463|    y|false| -0.5323378882945463|  0.2833836273138969|\n",
      "|  0.8612113741693206|    x|false| -0.8612113741693206|  0.7416850309986095|\n",
      "| -0.7889890249515489|    x|false|  0.7889890249515489|  0.6225036814939958|\n",
      "|  -1.261605945319069|    y|false|   1.261605945319069|   1.591649561264422|\n",
      "|  0.9137407048596775|    y|false| -0.9137407048596775|  0.8349220757174602|\n",
      "| 0.31735092273633597|    x|false|-0.31735092273633597| 0.10071160816160388|\n",
      "| 0.12730328020698067|    z|false|-0.12730328020698067|0.016206125151457036|\n",
      "|  0.6062886568962988|    x|false| -0.6062886568962988|   0.367585935481118|\n",
      "+--------------------+-----+-----+--------------------+--------------------+\n",
      "\n"
     ]
    }
   ],
   "source": [
    "df.filter((df.abool==False) & (df.n < 1)).show()\n"
   ]
  },
  {
   "cell_type": "markdown",
   "id": "e72f4324",
   "metadata": {},
   "source": [
    "ix. Find the columns where abool is false or n is less than 1"
   ]
  },
  {
   "cell_type": "code",
   "execution_count": 49,
   "id": "37584d9b",
   "metadata": {},
   "outputs": [
    {
     "name": "stdout",
     "output_type": "stream",
     "text": [
      "+--------------------+-----+-----+--------------------+--------------------+\n",
      "|                   n|group|abool|                  n2|                  n3|\n",
      "+--------------------+-----+-----+--------------------+--------------------+\n",
      "|  -0.712390662050588|    z|false|   0.712390662050588|   0.507500455376875|\n",
      "|   0.753766378659703|    x|false|  -0.753766378659703|  0.5681637535977627|\n",
      "|-0.04450307833805...|    z|false|0.044503078338053455|0.001980523981562...|\n",
      "| 0.45181233874578974|    y|false|-0.45181233874578974| 0.20413438944294027|\n",
      "|  1.3451017084510097|    z|false| -1.3451017084510097|  1.8092986060778251|\n",
      "|  0.5323378882945463|    y|false| -0.5323378882945463|  0.2833836273138969|\n",
      "|  1.3501878997225267|    z|false| -1.3501878997225267|  1.8230073645571279|\n",
      "|  0.8612113741693206|    x|false| -0.8612113741693206|  0.7416850309986095|\n",
      "| -1.0453771305385342|    y| true|  1.0453771305385342|  1.0928133450529796|\n",
      "| -0.7889890249515489|    x|false|  0.7889890249515489|  0.6225036814939958|\n",
      "|  -1.261605945319069|    y|false|   1.261605945319069|   1.591649561264422|\n",
      "|  0.5628467852810314|    y| true| -0.5628467852810314| 0.31679650370119145|\n",
      "|-0.24332625188556253|    y| true| 0.24332625188556253| 0.05920766485667622|\n",
      "|  0.9137407048596775|    y|false| -0.9137407048596775|  0.8349220757174602|\n",
      "| 0.31735092273633597|    x|false|-0.31735092273633597| 0.10071160816160388|\n",
      "| 0.12730328020698067|    z|false|-0.12730328020698067|0.016206125151457036|\n",
      "|  0.6062886568962988|    x|false| -0.6062886568962988|   0.367585935481118|\n",
      "|-0.02677164998644...|    x| true|0.026771649986440726|7.167212429964917E-4|\n",
      "+--------------------+-----+-----+--------------------+--------------------+\n",
      "\n"
     ]
    }
   ],
   "source": [
    "df.filter((df.abool==False) | (df.n < 1)).show()"
   ]
  },
  {
   "cell_type": "markdown",
   "id": "217de7aa",
   "metadata": {},
   "source": [
    "7. Sorting\n",
    "\n",
    "    i. Use the starter code above to re-create a spark dataframe.\n",
    "\n",
    "    ii. Sort by the n value.\n",
    "\n"
   ]
  },
  {
   "cell_type": "code",
   "execution_count": 50,
   "id": "7cd372c4",
   "metadata": {},
   "outputs": [
    {
     "name": "stdout",
     "output_type": "stream",
     "text": [
      "+--------------------+-----+-----+--------------------+--------------------+\n",
      "|                   n|group|abool|                  n2|                  n3|\n",
      "+--------------------+-----+-----+--------------------+--------------------+\n",
      "|  -1.261605945319069|    y|false|   1.261605945319069|   1.591649561264422|\n",
      "| -1.0453771305385342|    y| true|  1.0453771305385342|  1.0928133450529796|\n",
      "| -0.7889890249515489|    x|false|  0.7889890249515489|  0.6225036814939958|\n",
      "|  -0.712390662050588|    z|false|   0.712390662050588|   0.507500455376875|\n",
      "|-0.24332625188556253|    y| true| 0.24332625188556253| 0.05920766485667622|\n",
      "|-0.04450307833805...|    z|false|0.044503078338053455|0.001980523981562...|\n",
      "|-0.02677164998644...|    x| true|0.026771649986440726|7.167212429964917E-4|\n",
      "| 0.12730328020698067|    z|false|-0.12730328020698067|0.016206125151457036|\n",
      "| 0.31735092273633597|    x|false|-0.31735092273633597| 0.10071160816160388|\n",
      "| 0.45181233874578974|    y|false|-0.45181233874578974| 0.20413438944294027|\n",
      "|  0.5323378882945463|    y|false| -0.5323378882945463|  0.2833836273138969|\n",
      "|  0.5628467852810314|    y| true| -0.5628467852810314| 0.31679650370119145|\n",
      "|  0.6062886568962988|    x|false| -0.6062886568962988|   0.367585935481118|\n",
      "|   0.753766378659703|    x|false|  -0.753766378659703|  0.5681637535977627|\n",
      "|  0.8612113741693206|    x|false| -0.8612113741693206|  0.7416850309986095|\n",
      "|  0.9137407048596775|    y|false| -0.9137407048596775|  0.8349220757174602|\n",
      "|  1.3451017084510097|    z|false| -1.3451017084510097|  1.8092986060778251|\n",
      "|  1.3501878997225267|    z|false| -1.3501878997225267|  1.8230073645571279|\n",
      "|  1.4786857374358966|    z| true| -1.4786857374358966|  2.1865115100963415|\n",
      "|  2.1503829673811126|    y| true| -2.1503829673811126|   4.624146906402799|\n",
      "+--------------------+-----+-----+--------------------+--------------------+\n",
      "\n"
     ]
    }
   ],
   "source": [
    "df.sort('n').show()\n"
   ]
  },
  {
   "cell_type": "markdown",
   "id": "35fb0750",
   "metadata": {},
   "source": [
    "iii. Sort by the group value, both ascending and descending."
   ]
  },
  {
   "cell_type": "code",
   "execution_count": 51,
   "id": "70e53577",
   "metadata": {},
   "outputs": [
    {
     "name": "stdout",
     "output_type": "stream",
     "text": [
      "+--------------------+-----+-----+--------------------+--------------------+\n",
      "|                   n|group|abool|                  n2|                  n3|\n",
      "+--------------------+-----+-----+--------------------+--------------------+\n",
      "|  0.8612113741693206|    x|false| -0.8612113741693206|  0.7416850309986095|\n",
      "| 0.31735092273633597|    x|false|-0.31735092273633597| 0.10071160816160388|\n",
      "| -0.7889890249515489|    x|false|  0.7889890249515489|  0.6225036814939958|\n",
      "|   0.753766378659703|    x|false|  -0.753766378659703|  0.5681637535977627|\n",
      "|  0.6062886568962988|    x|false| -0.6062886568962988|   0.367585935481118|\n",
      "|-0.02677164998644...|    x| true|0.026771649986440726|7.167212429964917E-4|\n",
      "|  0.5628467852810314|    y| true| -0.5628467852810314| 0.31679650370119145|\n",
      "| 0.45181233874578974|    y|false|-0.45181233874578974| 0.20413438944294027|\n",
      "|-0.24332625188556253|    y| true| 0.24332625188556253| 0.05920766485667622|\n",
      "|  0.9137407048596775|    y|false| -0.9137407048596775|  0.8349220757174602|\n",
      "| -1.0453771305385342|    y| true|  1.0453771305385342|  1.0928133450529796|\n",
      "|  0.5323378882945463|    y|false| -0.5323378882945463|  0.2833836273138969|\n",
      "|  -1.261605945319069|    y|false|   1.261605945319069|   1.591649561264422|\n",
      "|  2.1503829673811126|    y| true| -2.1503829673811126|   4.624146906402799|\n",
      "|-0.04450307833805...|    z|false|0.044503078338053455|0.001980523981562...|\n",
      "|  1.3501878997225267|    z|false| -1.3501878997225267|  1.8230073645571279|\n",
      "|  -0.712390662050588|    z|false|   0.712390662050588|   0.507500455376875|\n",
      "| 0.12730328020698067|    z|false|-0.12730328020698067|0.016206125151457036|\n",
      "|  1.4786857374358966|    z| true| -1.4786857374358966|  2.1865115100963415|\n",
      "|  1.3451017084510097|    z|false| -1.3451017084510097|  1.8092986060778251|\n",
      "+--------------------+-----+-----+--------------------+--------------------+\n",
      "\n"
     ]
    }
   ],
   "source": [
    "df.sort(asc('group')).show()"
   ]
  },
  {
   "cell_type": "code",
   "execution_count": 52,
   "id": "e05e3f0c",
   "metadata": {},
   "outputs": [
    {
     "name": "stdout",
     "output_type": "stream",
     "text": [
      "+--------------------+-----+-----+--------------------+--------------------+\n",
      "|                   n|group|abool|                  n2|                  n3|\n",
      "+--------------------+-----+-----+--------------------+--------------------+\n",
      "|  -0.712390662050588|    z|false|   0.712390662050588|   0.507500455376875|\n",
      "| 0.12730328020698067|    z|false|-0.12730328020698067|0.016206125151457036|\n",
      "|  1.3451017084510097|    z|false| -1.3451017084510097|  1.8092986060778251|\n",
      "|-0.04450307833805...|    z|false|0.044503078338053455|0.001980523981562...|\n",
      "|  1.3501878997225267|    z|false| -1.3501878997225267|  1.8230073645571279|\n",
      "|  1.4786857374358966|    z| true| -1.4786857374358966|  2.1865115100963415|\n",
      "| 0.45181233874578974|    y|false|-0.45181233874578974| 0.20413438944294027|\n",
      "|  0.5628467852810314|    y| true| -0.5628467852810314| 0.31679650370119145|\n",
      "|-0.24332625188556253|    y| true| 0.24332625188556253| 0.05920766485667622|\n",
      "|  2.1503829673811126|    y| true| -2.1503829673811126|   4.624146906402799|\n",
      "|  0.9137407048596775|    y|false| -0.9137407048596775|  0.8349220757174602|\n",
      "|  -1.261605945319069|    y|false|   1.261605945319069|   1.591649561264422|\n",
      "|  0.5323378882945463|    y|false| -0.5323378882945463|  0.2833836273138969|\n",
      "| -1.0453771305385342|    y| true|  1.0453771305385342|  1.0928133450529796|\n",
      "|  0.6062886568962988|    x|false| -0.6062886568962988|   0.367585935481118|\n",
      "|-0.02677164998644...|    x| true|0.026771649986440726|7.167212429964917E-4|\n",
      "| -0.7889890249515489|    x|false|  0.7889890249515489|  0.6225036814939958|\n",
      "|   0.753766378659703|    x|false|  -0.753766378659703|  0.5681637535977627|\n",
      "| 0.31735092273633597|    x|false|-0.31735092273633597| 0.10071160816160388|\n",
      "|  0.8612113741693206|    x|false| -0.8612113741693206|  0.7416850309986095|\n",
      "+--------------------+-----+-----+--------------------+--------------------+\n",
      "\n"
     ]
    }
   ],
   "source": [
    "df.sort(desc('group')).show()"
   ]
  },
  {
   "cell_type": "markdown",
   "id": "5225564c",
   "metadata": {},
   "source": [
    "iv. Sort by the group value first, then, within each group, sort by n value."
   ]
  },
  {
   "cell_type": "code",
   "execution_count": 53,
   "id": "2f521aac",
   "metadata": {},
   "outputs": [
    {
     "name": "stdout",
     "output_type": "stream",
     "text": [
      "+--------------------+-----+-----+--------------------+--------------------+\n",
      "|                   n|group|abool|                  n2|                  n3|\n",
      "+--------------------+-----+-----+--------------------+--------------------+\n",
      "| -0.7889890249515489|    x|false|  0.7889890249515489|  0.6225036814939958|\n",
      "|-0.02677164998644...|    x| true|0.026771649986440726|7.167212429964917E-4|\n",
      "| 0.31735092273633597|    x|false|-0.31735092273633597| 0.10071160816160388|\n",
      "|  0.6062886568962988|    x|false| -0.6062886568962988|   0.367585935481118|\n",
      "|   0.753766378659703|    x|false|  -0.753766378659703|  0.5681637535977627|\n",
      "|  0.8612113741693206|    x|false| -0.8612113741693206|  0.7416850309986095|\n",
      "|  -1.261605945319069|    y|false|   1.261605945319069|   1.591649561264422|\n",
      "| -1.0453771305385342|    y| true|  1.0453771305385342|  1.0928133450529796|\n",
      "|-0.24332625188556253|    y| true| 0.24332625188556253| 0.05920766485667622|\n",
      "| 0.45181233874578974|    y|false|-0.45181233874578974| 0.20413438944294027|\n",
      "|  0.5323378882945463|    y|false| -0.5323378882945463|  0.2833836273138969|\n",
      "|  0.5628467852810314|    y| true| -0.5628467852810314| 0.31679650370119145|\n",
      "|  0.9137407048596775|    y|false| -0.9137407048596775|  0.8349220757174602|\n",
      "|  2.1503829673811126|    y| true| -2.1503829673811126|   4.624146906402799|\n",
      "|  -0.712390662050588|    z|false|   0.712390662050588|   0.507500455376875|\n",
      "|-0.04450307833805...|    z|false|0.044503078338053455|0.001980523981562...|\n",
      "| 0.12730328020698067|    z|false|-0.12730328020698067|0.016206125151457036|\n",
      "|  1.3451017084510097|    z|false| -1.3451017084510097|  1.8092986060778251|\n",
      "|  1.3501878997225267|    z|false| -1.3501878997225267|  1.8230073645571279|\n",
      "|  1.4786857374358966|    z| true| -1.4786857374358966|  2.1865115100963415|\n",
      "+--------------------+-----+-----+--------------------+--------------------+\n",
      "\n"
     ]
    }
   ],
   "source": [
    "df.sort('group', 'n').show()"
   ]
  },
  {
   "cell_type": "markdown",
   "id": "f5b4c3c1",
   "metadata": {},
   "source": [
    "v. Sort by abool, group, and n. Does it matter in what order you specify the columns when sorting?"
   ]
  },
  {
   "cell_type": "code",
   "execution_count": 54,
   "id": "009c60e6",
   "metadata": {},
   "outputs": [
    {
     "name": "stdout",
     "output_type": "stream",
     "text": [
      "+--------------------+-----+-----+--------------------+--------------------+\n",
      "|                   n|group|abool|                  n2|                  n3|\n",
      "+--------------------+-----+-----+--------------------+--------------------+\n",
      "| -0.7889890249515489|    x|false|  0.7889890249515489|  0.6225036814939958|\n",
      "| 0.31735092273633597|    x|false|-0.31735092273633597| 0.10071160816160388|\n",
      "|  0.6062886568962988|    x|false| -0.6062886568962988|   0.367585935481118|\n",
      "|   0.753766378659703|    x|false|  -0.753766378659703|  0.5681637535977627|\n",
      "|  0.8612113741693206|    x|false| -0.8612113741693206|  0.7416850309986095|\n",
      "|  -1.261605945319069|    y|false|   1.261605945319069|   1.591649561264422|\n",
      "| 0.45181233874578974|    y|false|-0.45181233874578974| 0.20413438944294027|\n",
      "|  0.5323378882945463|    y|false| -0.5323378882945463|  0.2833836273138969|\n",
      "|  0.9137407048596775|    y|false| -0.9137407048596775|  0.8349220757174602|\n",
      "|  -0.712390662050588|    z|false|   0.712390662050588|   0.507500455376875|\n",
      "|-0.04450307833805...|    z|false|0.044503078338053455|0.001980523981562...|\n",
      "| 0.12730328020698067|    z|false|-0.12730328020698067|0.016206125151457036|\n",
      "|  1.3451017084510097|    z|false| -1.3451017084510097|  1.8092986060778251|\n",
      "|  1.3501878997225267|    z|false| -1.3501878997225267|  1.8230073645571279|\n",
      "|-0.02677164998644...|    x| true|0.026771649986440726|7.167212429964917E-4|\n",
      "| -1.0453771305385342|    y| true|  1.0453771305385342|  1.0928133450529796|\n",
      "|-0.24332625188556253|    y| true| 0.24332625188556253| 0.05920766485667622|\n",
      "|  0.5628467852810314|    y| true| -0.5628467852810314| 0.31679650370119145|\n",
      "|  2.1503829673811126|    y| true| -2.1503829673811126|   4.624146906402799|\n",
      "|  1.4786857374358966|    z| true| -1.4786857374358966|  2.1865115100963415|\n",
      "+--------------------+-----+-----+--------------------+--------------------+\n",
      "\n"
     ]
    }
   ],
   "source": [
    "df.sort('abool', 'group', 'n').show()"
   ]
  },
  {
   "cell_type": "markdown",
   "id": "c7458c45",
   "metadata": {},
   "source": [
    "- Yes, it matters because it determines in what order they will be sorted. When the values for the first specified column are the same, the next specified column will determine sort order."
   ]
  },
  {
   "cell_type": "markdown",
   "id": "4f4e4e83",
   "metadata": {},
   "source": [
    "8. Spark SQL\n",
    "\n",
    "    i. Use the starter code above to re-create a spark dataframe.\n",
    "    \n",
    "    ii. Turn your dataframe into a table that can be queried with spark SQL. Name the table my_df. Answer the rest of the questions in this section with a spark sql query (spark.sql) against my_df. After each step, view the first 7 records from the dataframe.\n",
    "    \n",
    "    iii. Write a query that shows all of the columns from your dataframe.\n",
    "    \n",
    "    iv. Write a query that shows just the n and abool columns from the dataframe.\n",
    "    \n",
    "    v. Write a query that shows just the n and group columns. Rename the group column to g.\n",
    "    \n",
    "    vi. Write a query that selects n, and creates two new columns: n2, the original n values halved, and n3: the original n values minus 1.\n",
    "    \n",
    "    vii. What happens if you make a SQL syntax error in your query?"
   ]
  },
  {
   "cell_type": "markdown",
   "id": "251bc3f3",
   "metadata": {},
   "source": [
    "9. Aggregating\n",
    "\n",
    "    i. What is the average n value for each group in the group column?\n",
    "    \n",
    "    ii. What is the maximum n value for each group in the group column?\n",
    "    \n",
    "    iii. What is the minimum n value by abool?\n",
    "    \n",
    "    iv. What is the average n value for each unique combination of the group and abool column?"
   ]
  },
  {
   "cell_type": "code",
   "execution_count": null,
   "id": "8b589798",
   "metadata": {},
   "outputs": [],
   "source": []
  }
 ],
 "metadata": {
  "kernelspec": {
   "display_name": "Python 3",
   "language": "python",
   "name": "python3"
  },
  "language_info": {
   "codemirror_mode": {
    "name": "ipython",
    "version": 3
   },
   "file_extension": ".py",
   "mimetype": "text/x-python",
   "name": "python",
   "nbconvert_exporter": "python",
   "pygments_lexer": "ipython3",
   "version": "3.8.8"
  }
 },
 "nbformat": 4,
 "nbformat_minor": 5
}
