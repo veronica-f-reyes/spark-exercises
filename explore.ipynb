{
 "cells": [
  {
   "cell_type": "markdown",
   "id": "7dab2628",
   "metadata": {},
   "source": [
    "# Exploring Data Exercises"
   ]
  },
  {
   "cell_type": "markdown",
   "id": "804bd688",
   "metadata": {},
   "source": [
    "Answer the questions below by using a combination of the techniques discussed in the lesson that you think is appropriate.\n",
    "\n",
    "- How many different cases are there, by department?\n",
    "- Does the percentage of cases that are late vary by department?\n",
    "- On average, how late are the late cases by department?\n",
    "- What is the service type that is the most late? Just for Parks & Rec?\n",
    "- For the DSD/Code Enforcement department, what are the most common service request types? Look at other departments too.\n",
    "- Does whether or not its a weekend matter for when a case is opened/closed?\n",
    "- On average, how many cases are opened a day for the Customer Service department?\n",
    "- Does the number of service requests for the solid waste department vary by day of the week?"
   ]
  },
  {
   "cell_type": "code",
   "execution_count": 1,
   "id": "9de319fb",
   "metadata": {},
   "outputs": [
    {
     "name": "stdout",
     "output_type": "stream",
     "text": [
      "[wrangle.py] reading case.csv\n",
      "[wrangle.py] handling data types\n",
      "[wrangle.py] parsing dates\n",
      "[wrangle.py] adding features\n",
      "[wrangle.py] joining departments\n",
      "\n",
      "df shape: (841704, 20)\n",
      "\n",
      "-RECORD 0------------------------------------\n",
      " case_id              | 1014127332           \n",
      " case_opened_date     | 2018-01-01 00:42:00  \n",
      " case_closed_date     | 2018-01-01 12:29:00  \n",
      " case_due_date        | 2020-09-26 00:42:00  \n",
      " case_late            | false                \n",
      " num_days_late        | -998.5087616000001   \n",
      " case_closed          | true                 \n",
      " service_request_type | Stray Animal         \n",
      " SLA_days             | 999.0                \n",
      " case_status          | Closed               \n",
      " source_id            | svcCRMLS             \n",
      " request_address      | 2315  EL PASO ST,... \n",
      " council_district     | 005                  \n",
      " num_weeks_late       | -142.6441088         \n",
      " zipcode              | 78207                \n",
      " case_age             | 219                  \n",
      " days_to_closed       | 0                    \n",
      " case_lifetime        | 0                    \n",
      " department           | Animal Care Services \n",
      " dept_subject_to_SLA  | true                 \n",
      "only showing top 1 row\n",
      "\n"
     ]
    }
   ],
   "source": [
    "import pyspark.sql\n",
    "from pyspark.sql.functions import *\n",
    "\n",
    "import numpy as np\n",
    "import pandas as pd\n",
    "\n",
    "import matplotlib.pyplot as plt\n",
    "import seaborn as sns\n",
    "\n",
    "from wrangle import wrangle_311\n",
    "\n",
    "spark = pyspark.sql.SparkSession.builder.getOrCreate()\n",
    "\n",
    "df = wrangle_311(spark)\n",
    "print(\"\\ndf shape: (%d, %d)\\n\" % (df.count(), len(df.columns)))\n",
    "df.show(1, vertical=True)"
   ]
  },
  {
   "cell_type": "code",
   "execution_count": 2,
   "id": "7673a0d1",
   "metadata": {},
   "outputs": [],
   "source": [
    "#How many cases are there by department?\n",
    "\n",
    "cases_by_dept = df.groupBy(\"department\").count().toPandas()"
   ]
  },
  {
   "cell_type": "code",
   "execution_count": 3,
   "id": "e1bf6df4",
   "metadata": {},
   "outputs": [
    {
     "data": {
      "text/html": [
       "<div>\n",
       "<style scoped>\n",
       "    .dataframe tbody tr th:only-of-type {\n",
       "        vertical-align: middle;\n",
       "    }\n",
       "\n",
       "    .dataframe tbody tr th {\n",
       "        vertical-align: top;\n",
       "    }\n",
       "\n",
       "    .dataframe thead th {\n",
       "        text-align: right;\n",
       "    }\n",
       "</style>\n",
       "<table border=\"1\" class=\"dataframe\">\n",
       "  <thead>\n",
       "    <tr style=\"text-align: right;\">\n",
       "      <th></th>\n",
       "      <th>department</th>\n",
       "      <th>count</th>\n",
       "    </tr>\n",
       "  </thead>\n",
       "  <tbody>\n",
       "    <tr>\n",
       "      <th>0</th>\n",
       "      <td>Solid Waste</td>\n",
       "      <td>279270</td>\n",
       "    </tr>\n",
       "    <tr>\n",
       "      <th>1</th>\n",
       "      <td>Animal Care Services</td>\n",
       "      <td>116915</td>\n",
       "    </tr>\n",
       "    <tr>\n",
       "      <th>2</th>\n",
       "      <td>Trans &amp; Cap Improvements</td>\n",
       "      <td>96193</td>\n",
       "    </tr>\n",
       "    <tr>\n",
       "      <th>3</th>\n",
       "      <td>Parks &amp; Recreation</td>\n",
       "      <td>19907</td>\n",
       "    </tr>\n",
       "    <tr>\n",
       "      <th>4</th>\n",
       "      <td>Customer Service</td>\n",
       "      <td>2849</td>\n",
       "    </tr>\n",
       "    <tr>\n",
       "      <th>5</th>\n",
       "      <td>Metro Health</td>\n",
       "      <td>5163</td>\n",
       "    </tr>\n",
       "    <tr>\n",
       "      <th>6</th>\n",
       "      <td>City Council</td>\n",
       "      <td>33</td>\n",
       "    </tr>\n",
       "    <tr>\n",
       "      <th>7</th>\n",
       "      <td>DSD/Code Enforcement</td>\n",
       "      <td>321374</td>\n",
       "    </tr>\n",
       "  </tbody>\n",
       "</table>\n",
       "</div>"
      ],
      "text/plain": [
       "                 department   count\n",
       "0               Solid Waste  279270\n",
       "1      Animal Care Services  116915\n",
       "2  Trans & Cap Improvements   96193\n",
       "3        Parks & Recreation   19907\n",
       "4          Customer Service    2849\n",
       "5              Metro Health    5163\n",
       "6              City Council      33\n",
       "7      DSD/Code Enforcement  321374"
      ]
     },
     "execution_count": 3,
     "metadata": {},
     "output_type": "execute_result"
    }
   ],
   "source": [
    "cases_by_dept"
   ]
  },
  {
   "cell_type": "code",
   "execution_count": 12,
   "id": "9342be51",
   "metadata": {},
   "outputs": [
    {
     "name": "stdout",
     "output_type": "stream",
     "text": [
      "+------------------------+---------+------------+--------------------+\n",
      "|department              |days_late|n_cases_late|percentage          |\n",
      "+------------------------+---------+------------+--------------------+\n",
      "|Metro Health            |6.5      |829         |9.849068080940568E-4|\n",
      "|Solid Waste             |7.2      |32945       |0.03914083810935911 |\n",
      "|Trans & Cap Improvements|10.6     |5411        |0.006428625740165189|\n",
      "|Parks & Recreation      |22.3     |3797        |0.00451108703297121 |\n",
      "|Animal Care Services    |23.5     |23276       |0.02765342685789779 |\n",
      "|DSD/Code Enforcement    |49.4     |26235       |0.031168914487753413|\n",
      "|Customer Service        |87.7     |2010        |0.002388012888141199|\n",
      "+------------------------+---------+------------+--------------------+\n",
      "\n"
     ]
    }
   ],
   "source": [
    "#Does the percentage of cases that are late vary by department?\n",
    "nrows = df.count()\n",
    "# Does number of days late depend on department?\n",
    "(   \n",
    "    df.filter('case_late')\n",
    "    .groupby('department')\n",
    "    .agg(mean('num_days_late').alias('days_late'), count('num_days_late').alias('n_cases_late'))\n",
    "    .sort('days_late')\n",
    "    .withColumn('days_late', round(col('days_late'), 1))\n",
    "    .withColumn('percentage', col('n_cases_late') / nrows)\n",
    "    .show(truncate=False)\n",
    ")"
   ]
  },
  {
   "cell_type": "code",
   "execution_count": 13,
   "id": "ebdf6f49",
   "metadata": {},
   "outputs": [
    {
     "name": "stdout",
     "output_type": "stream",
     "text": [
      "+-----------+------+--------------------+\n",
      "|case_status| count|          percentage|\n",
      "+-----------+------+--------------------+\n",
      "|       Open| 18110|0.021515877315540857|\n",
      "|     Closed|823594|  0.9784841226844592|\n",
      "+-----------+------+--------------------+\n",
      "\n"
     ]
    }
   ],
   "source": [
    "df.groupby(\"case_status\").count().withColumn('percentage', col('count') / nrows).show()"
   ]
  },
  {
   "cell_type": "code",
   "execution_count": 14,
   "id": "7a9938a1",
   "metadata": {},
   "outputs": [],
   "source": [
    "#On average, how late are the late cases by department?\n",
    "\n",
    "# See above"
   ]
  },
  {
   "cell_type": "code",
   "execution_count": 17,
   "id": "b2d1d212",
   "metadata": {},
   "outputs": [
    {
     "name": "stdout",
     "output_type": "stream",
     "text": [
      "+----------------------------------------+---------+------------+\n",
      "|service_request_type                    |days_late|n_cases_late|\n",
      "+----------------------------------------+---------+------------+\n",
      "|Zoning: Recycle Yard                    |210.9    |132         |\n",
      "|Zoning: Junk Yards                      |200.2    |262         |\n",
      "|Structure/Housing Maintenance           |190.2    |51          |\n",
      "|Donation Container Enforcement          |171.1    |122         |\n",
      "|Storage of Used Mattress                |164.0    |7           |\n",
      "|Labeling for Used Mattress              |162.4    |7           |\n",
      "|Record Keeping of Used Mattresses       |154.0    |7           |\n",
      "|Signage Requied for Sale of Used Mattr  |151.6    |12          |\n",
      "|Traffic Signal Graffiti                 |137.6    |2           |\n",
      "|License Requied Used Mattress Sales     |128.8    |7           |\n",
      "|Curbstoning                             |120.4    |123         |\n",
      "|Vendors                                 |117.7    |131         |\n",
      "|CPS Energy Wood Poles                   |115.2    |1           |\n",
      "|Graffiti: Private Property (Corridors)  |114.1    |5           |\n",
      "|Used Mattress Inspection                |108.1    |16          |\n",
      "|DSDB Ordered/Hold Harmless/Regular: Main|94.9     |145         |\n",
      "|DSDB Ordered/Hold Harmless/Regular-ALL  |90.6     |115         |\n",
      "|DSDB Ordered/Hold Harmless/Regular: ASEC|88.7     |74          |\n",
      "|Complaint                               |87.7     |1998        |\n",
      "|Zoning: Setbacks                        |86.7     |109         |\n",
      "+----------------------------------------+---------+------------+\n",
      "only showing top 20 rows\n",
      "\n"
     ]
    }
   ],
   "source": [
    "# What is the service type that is the most late? Just for Parks & Rec?\n",
    "\n",
    "(   \n",
    "    df.filter('case_late')\n",
    "    .groupby('service_request_type')\n",
    "    .agg(mean('num_days_late').alias('days_late'), count('num_days_late').alias('n_cases_late'))\n",
    "    .sort('days_late',ascending=False)\n",
    "    .withColumn('days_late', round(col('days_late'), 1))\n",
    "    .show(truncate=False)\n",
    ")"
   ]
  },
  {
   "cell_type": "code",
   "execution_count": 21,
   "id": "b0ae8d51",
   "metadata": {},
   "outputs": [
    {
     "name": "stdout",
     "output_type": "stream",
     "text": [
      "+-------------------------------------+---------+------------+\n",
      "|service_request_type                 |days_late|n_cases_late|\n",
      "+-------------------------------------+---------+------------+\n",
      "|Amenity Park Improvement             |76.9     |25          |\n",
      "|Major Park Improvement Install       |75.8     |17          |\n",
      "|Reservation Assistance               |66.0     |2           |\n",
      "|Park Building Maint Invest           |59.4     |23          |\n",
      "|Sportfield Lighting                  |51.5     |268         |\n",
      "|Electrical                           |43.0     |481         |\n",
      "|Tree Removal                         |40.3     |84          |\n",
      "|Landscape Maintenance                |38.9     |19          |\n",
      "|Heavy Equipment                      |38.6     |19          |\n",
      "|Miscellaneous Park Equipment         |33.6     |43          |\n",
      "|Tree Trimming/Maintenance            |30.7     |171         |\n",
      "|General Building Maintenance         |28.2     |105         |\n",
      "|Masonry                              |28.0     |128         |\n",
      "|Painting                             |25.4     |92          |\n",
      "|Sign Maintenance                     |22.3     |34          |\n",
      "|Fence/Gate Repair                    |20.4     |53          |\n",
      "|Small Equipment Repair               |19.6     |6           |\n",
      "|Pools                                |19.5     |31          |\n",
      "|Plumbing                             |18.6     |325         |\n",
      "|Plumbing/Drinking Fountain/Sprinklers|18.2     |77          |\n",
      "+-------------------------------------+---------+------------+\n",
      "only showing top 20 rows\n",
      "\n"
     ]
    }
   ],
   "source": [
    "# Just for Parks & Rec?\n",
    "\n",
    "(   \n",
    "    df.filter('case_late')\n",
    "    .filter(expr('department == \"Parks & Recreation\"'))\n",
    "    .groupby('service_request_type')\n",
    "    .agg(mean('num_days_late').alias('days_late'), count('num_days_late').alias('n_cases_late'))\n",
    "    .sort('days_late',ascending=False)\n",
    "    .withColumn('days_late', round(col('days_late'), 1))\n",
    "    .show(truncate=False)\n",
    ")"
   ]
  },
  {
   "cell_type": "code",
   "execution_count": 28,
   "id": "f94f6b96",
   "metadata": {},
   "outputs": [
    {
     "name": "stdout",
     "output_type": "stream",
     "text": [
      "+--------------------+--------------------------------------+-----+\n",
      "|department          |service_request_type                  |count|\n",
      "+--------------------+--------------------------------------+-----+\n",
      "|DSD/Code Enforcement|Overgrown Yard/Trash                  |65895|\n",
      "|DSD/Code Enforcement|Bandit Signs                          |32910|\n",
      "|DSD/Code Enforcement|Front Or Side Yard Parking            |28794|\n",
      "|DSD/Code Enforcement|Junk Vehicle On Private Property      |21473|\n",
      "|DSD/Code Enforcement|Alley-Way Maintenance                 |20214|\n",
      "|DSD/Code Enforcement|Right Of Way/Sidewalk Obstruction     |17699|\n",
      "|DSD/Code Enforcement|Vacant Lot/Overgrown/Trash            |9329 |\n",
      "|DSD/Code Enforcement|Minimum Housing-Owner Occupied        |8543 |\n",
      "|DSD/Code Enforcement|Graffiti: Private Property (Corridors)|8525 |\n",
      "|DSD/Code Enforcement|Dang. Premises/CL/SEC                 |8004 |\n",
      "|DSD/Code Enforcement|Minimum Housing-Tenant Occupied       |7984 |\n",
      "|DSD/Code Enforcement|\"Vacant Lot-Private (12\"\")\"           |7875 |\n",
      "|DSD/Code Enforcement|Brush Violations                      |7475 |\n",
      "|DSD/Code Enforcement|Permits Building                      |6880 |\n",
      "|DSD/Code Enforcement|Vacant House Overgrown Yard           |6109 |\n",
      "|DSD/Code Enforcement|Graffiti: Building                    |4572 |\n",
      "|DSD/Code Enforcement|Graffiti Public Property              |4104 |\n",
      "|DSD/Code Enforcement|Low Hanging Limbs on Streets/Sidewalk |4052 |\n",
      "|DSD/Code Enforcement|CPS Energy Wood Poles                 |3501 |\n",
      "|DSD/Code Enforcement|Zoning Business in Resident Area      |2716 |\n",
      "+--------------------+--------------------------------------+-----+\n",
      "only showing top 20 rows\n",
      "\n"
     ]
    }
   ],
   "source": [
    "#  For the DSD/Code Enforcement department, what are the most common service request types? Look at other departments too.\n",
    "\n",
    "(   \n",
    "    df.filter(expr('department == \"DSD/Code Enforcement\"'))\n",
    "    .groupby('department','service_request_type')\n",
    "    .count()\n",
    "    .sort('count',ascending=False)\n",
    "    .show(truncate=False)\n",
    ")\n"
   ]
  },
  {
   "cell_type": "code",
   "execution_count": 27,
   "id": "4c24ad9b",
   "metadata": {},
   "outputs": [
    {
     "name": "stdout",
     "output_type": "stream",
     "text": [
      "+------------------------+---------------------------------+-----+\n",
      "|department              |service_request_type             |count|\n",
      "+------------------------+---------------------------------+-----+\n",
      "|Solid Waste             |No Pickup                        |86855|\n",
      "|DSD/Code Enforcement    |Overgrown Yard/Trash             |65895|\n",
      "|DSD/Code Enforcement    |Bandit Signs                     |32910|\n",
      "|Solid Waste             |Damaged Cart                     |30338|\n",
      "|DSD/Code Enforcement    |Front Or Side Yard Parking       |28794|\n",
      "|Animal Care Services    |Stray Animal                     |26760|\n",
      "|Animal Care Services    |Aggressive Animal(Non-Critical)  |24882|\n",
      "|Solid Waste             |Cart Exchange Request            |22024|\n",
      "|DSD/Code Enforcement    |Junk Vehicle On Private Property |21473|\n",
      "|Trans & Cap Improvements|Pot Hole Repair                  |20616|\n",
      "|DSD/Code Enforcement    |Alley-Way Maintenance            |20214|\n",
      "|Solid Waste             |Lost/Stolen Cart                 |18731|\n",
      "|DSD/Code Enforcement    |Right Of Way/Sidewalk Obstruction|17699|\n",
      "|Solid Waste             |Dead Animal - Dog                |16714|\n",
      "|Solid Waste             |Cart Delivery                    |15471|\n",
      "|Solid Waste             |Dead Animal - Cat                |14983|\n",
      "|Animal Care Services    |Animal Neglect                   |13441|\n",
      "|Solid Waste             |Dead Animal - Misc               |13234|\n",
      "|Animal Care Services    |Trapped/Confined Animal          |11354|\n",
      "|Animal Care Services    |Public Nuisance(Own Animal)      |10715|\n",
      "+------------------------+---------------------------------+-----+\n",
      "only showing top 20 rows\n",
      "\n"
     ]
    }
   ],
   "source": [
    "#Look at other departments\n",
    "\n",
    "(   \n",
    "    df.groupby('department','service_request_type')\n",
    "    .count()\n",
    "    .sort('count',ascending=False)\n",
    "    .show(truncate=False)\n",
    ")"
   ]
  },
  {
   "cell_type": "code",
   "execution_count": 29,
   "id": "fe509a0a",
   "metadata": {},
   "outputs": [
    {
     "name": "stdout",
     "output_type": "stream",
     "text": [
      "+------------------------+----------------+----------------+\n",
      "|department              |case_opened_date|case_closed_date|\n",
      "+------------------------+----------------+----------------+\n",
      "|Animal Care Services    |2018-01-01      |2018-01-01      |\n",
      "|Trans & Cap Improvements|2018-01-01      |2018-01-03      |\n",
      "|Trans & Cap Improvements|2018-01-01      |2018-01-02      |\n",
      "|DSD/Code Enforcement    |2018-01-01      |2018-01-02      |\n",
      "|Animal Care Services    |2018-01-01      |2018-01-01      |\n",
      "+------------------------+----------------+----------------+\n",
      "only showing top 5 rows\n",
      "\n"
     ]
    }
   ],
   "source": [
    "# Does whether or not its a weekend matter for when a case is opened/closed?\n",
    "\n",
    "cases_by_day = df.select(\n",
    "    \"department\",\n",
    "    date_format(\"case_opened_date\", \"yyyy-MM-dd\").alias(\"case_opened_date\"),\n",
    "    date_format(\"case_closed_date\", \"yyyy-MM-dd\").alias(\"case_closed_date\"),\n",
    ")\n",
    "\n",
    "cases_by_day.show(5, truncate=False)"
   ]
  },
  {
   "cell_type": "code",
   "execution_count": 30,
   "id": "7e1efc20",
   "metadata": {},
   "outputs": [
    {
     "data": {
      "text/plain": [
       "case_opened_date\n",
       "2017-01-01     155\n",
       "2017-01-02    1397\n",
       "2017-01-03    1760\n",
       "2017-01-04    1613\n",
       "2017-01-05    1791\n",
       "              ... \n",
       "2018-08-04     665\n",
       "2018-08-05     319\n",
       "2018-08-06    2071\n",
       "2018-08-07    2405\n",
       "2018-08-08     604\n",
       "Name: cases_opened, Length: 585, dtype: int64"
      ]
     },
     "execution_count": 30,
     "metadata": {},
     "output_type": "execute_result"
    }
   ],
   "source": [
    "cases_opened_by_day = (\n",
    "    cases_by_day\n",
    "    .groupby('case_opened_date')\n",
    "    .count()\n",
    "    .na.drop()\n",
    "    .sort('case_opened_date')\n",
    "    .toPandas()\n",
    "    .assign(case_opened_date=lambda df: pd.to_datetime(df.case_opened_date))\n",
    "    .set_index('case_opened_date')\n",
    "    ['count']\n",
    ")\n",
    "cases_opened_by_day.name = 'cases_opened'\n",
    "cases_opened_by_day"
   ]
  },
  {
   "cell_type": "code",
   "execution_count": 31,
   "id": "e42782c6",
   "metadata": {},
   "outputs": [],
   "source": [
    "cases_closed_by_day = (\n",
    "    cases_by_day\n",
    "    .groupby('case_closed_date')\n",
    "    .count()\n",
    "    .na.drop()\n",
    "    .sort('case_closed_date')\n",
    "    .toPandas()\n",
    "    .assign(case_closed_date=lambda df: pd.to_datetime(df.case_closed_date))\n",
    "    .set_index('case_closed_date')\n",
    "    ['count']\n",
    ")\n",
    "cases_closed_by_day.name = 'cases_closed'"
   ]
  },
  {
   "cell_type": "code",
   "execution_count": 32,
   "id": "900be6c9",
   "metadata": {},
   "outputs": [
    {
     "data": {
      "text/html": [
       "<div>\n",
       "<style scoped>\n",
       "    .dataframe tbody tr th:only-of-type {\n",
       "        vertical-align: middle;\n",
       "    }\n",
       "\n",
       "    .dataframe tbody tr th {\n",
       "        vertical-align: top;\n",
       "    }\n",
       "\n",
       "    .dataframe thead th {\n",
       "        text-align: right;\n",
       "    }\n",
       "</style>\n",
       "<table border=\"1\" class=\"dataframe\">\n",
       "  <thead>\n",
       "    <tr style=\"text-align: right;\">\n",
       "      <th></th>\n",
       "      <th>cases_opened</th>\n",
       "      <th>cases_closed</th>\n",
       "    </tr>\n",
       "  </thead>\n",
       "  <tbody>\n",
       "    <tr>\n",
       "      <th>2017-01-01</th>\n",
       "      <td>155</td>\n",
       "      <td>67</td>\n",
       "    </tr>\n",
       "    <tr>\n",
       "      <th>2017-01-02</th>\n",
       "      <td>1397</td>\n",
       "      <td>385</td>\n",
       "    </tr>\n",
       "    <tr>\n",
       "      <th>2017-01-03</th>\n",
       "      <td>1760</td>\n",
       "      <td>734</td>\n",
       "    </tr>\n",
       "    <tr>\n",
       "      <th>2017-01-04</th>\n",
       "      <td>1613</td>\n",
       "      <td>1206</td>\n",
       "    </tr>\n",
       "    <tr>\n",
       "      <th>2017-01-05</th>\n",
       "      <td>1791</td>\n",
       "      <td>1173</td>\n",
       "    </tr>\n",
       "    <tr>\n",
       "      <th>...</th>\n",
       "      <td>...</td>\n",
       "      <td>...</td>\n",
       "    </tr>\n",
       "    <tr>\n",
       "      <th>2018-08-04</th>\n",
       "      <td>665</td>\n",
       "      <td>730</td>\n",
       "    </tr>\n",
       "    <tr>\n",
       "      <th>2018-08-05</th>\n",
       "      <td>319</td>\n",
       "      <td>197</td>\n",
       "    </tr>\n",
       "    <tr>\n",
       "      <th>2018-08-06</th>\n",
       "      <td>2071</td>\n",
       "      <td>1713</td>\n",
       "    </tr>\n",
       "    <tr>\n",
       "      <th>2018-08-07</th>\n",
       "      <td>2405</td>\n",
       "      <td>2096</td>\n",
       "    </tr>\n",
       "    <tr>\n",
       "      <th>2018-08-08</th>\n",
       "      <td>604</td>\n",
       "      <td>680</td>\n",
       "    </tr>\n",
       "  </tbody>\n",
       "</table>\n",
       "<p>585 rows × 2 columns</p>\n",
       "</div>"
      ],
      "text/plain": [
       "            cases_opened  cases_closed\n",
       "2017-01-01           155            67\n",
       "2017-01-02          1397           385\n",
       "2017-01-03          1760           734\n",
       "2017-01-04          1613          1206\n",
       "2017-01-05          1791          1173\n",
       "...                  ...           ...\n",
       "2018-08-04           665           730\n",
       "2018-08-05           319           197\n",
       "2018-08-06          2071          1713\n",
       "2018-08-07          2405          2096\n",
       "2018-08-08           604           680\n",
       "\n",
       "[585 rows x 2 columns]"
      ]
     },
     "execution_count": 32,
     "metadata": {},
     "output_type": "execute_result"
    }
   ],
   "source": [
    "ts = pd.concat([cases_opened_by_day, cases_closed_by_day], axis=1)\n",
    "ts"
   ]
  },
  {
   "cell_type": "code",
   "execution_count": 33,
   "id": "d8045cbb",
   "metadata": {},
   "outputs": [
    {
     "data": {
      "text/plain": [
       "(array([0, 1, 2, 3, 4, 5, 6]),\n",
       " [Text(0, 0, '0-Sun'),\n",
       "  Text(1, 0, '1-Mon'),\n",
       "  Text(2, 0, '2-Tue'),\n",
       "  Text(3, 0, '3-Wed'),\n",
       "  Text(4, 0, '4-Thu'),\n",
       "  Text(5, 0, '5-Fri'),\n",
       "  Text(6, 0, '6-Sat')])"
      ]
     },
     "execution_count": 33,
     "metadata": {},
     "output_type": "execute_result"
    },
    {
     "data": {
      "image/png": "[encoded data removed]",
      "text/plain": [
       "<Figure size 936x504 with 1 Axes>"
      ]
     },
     "metadata": {
      "needs_background": "light"
     },
     "output_type": "display_data"
    }
   ],
   "source": [
    "ts['weekday'] = ts.index.strftime('%w-%a')\n",
    "ts.groupby('weekday').mean().plot.bar(figsize=(13, 7), ec='black', width=.9)\n",
    "plt.xticks(rotation=0)"
   ]
  },
  {
   "cell_type": "code",
   "execution_count": 36,
   "id": "86b0951a",
   "metadata": {},
   "outputs": [
    {
     "data": {
      "text/plain": [
       "5.564453125"
      ]
     },
     "execution_count": 36,
     "metadata": {},
     "output_type": "execute_result"
    }
   ],
   "source": [
    "# On average, how many cases are opened a day for the Customer Service department?\n",
    "\n",
    "cases_opened_by_day_by_CSD = (\n",
    "    cases_by_day\n",
    "    .filter(expr('department == \"Customer Service\"'))\n",
    "    .groupby('case_opened_date')\n",
    "    .count()\n",
    "    .na.drop()\n",
    "    .sort('case_opened_date')\n",
    "    .toPandas()\n",
    "    .assign(case_opened_date=lambda df: pd.to_datetime(df.case_opened_date))\n",
    "    .set_index('case_opened_date')\n",
    "    ['count']\n",
    ")\n",
    "cases_opened_by_day_by_CSD.mean()"
   ]
  },
  {
   "cell_type": "code",
   "execution_count": 37,
   "id": "a0d17db4",
   "metadata": {},
   "outputs": [
    {
     "name": "stdout",
     "output_type": "stream",
     "text": [
      "+-----------+----------------------------------------------+-----+\n",
      "|department |service_request_type                          |count|\n",
      "+-----------+----------------------------------------------+-----+\n",
      "|Solid Waste|No Pickup                                     |86855|\n",
      "|Solid Waste|Damaged Cart                                  |30338|\n",
      "|Solid Waste|Cart Exchange Request                         |22024|\n",
      "|Solid Waste|Lost/Stolen Cart                              |18731|\n",
      "|Solid Waste|Dead Animal - Dog                             |16714|\n",
      "|Solid Waste|Cart Delivery                                 |15471|\n",
      "|Solid Waste|Dead Animal - Cat                             |14983|\n",
      "|Solid Waste|Dead Animal - Misc                            |13234|\n",
      "|Solid Waste|Cart PickUp                                   |10081|\n",
      "|Solid Waste|1st Call Bagged Leaves                        |6554 |\n",
      "|Solid Waste|Solid Waste Fees and Charges                  |5104 |\n",
      "|Solid Waste|Brush - Out of Cycle Collection - Fee Required|4840 |\n",
      "|Solid Waste|Illegal Dumping (Non- residential areas)      |4670 |\n",
      "|Solid Waste|Disability Assistance Missed Pickup           |4019 |\n",
      "|Solid Waste|Additional Cart Request                       |3020 |\n",
      "|Solid Waste|Additional Garbage Container - with Fee       |2944 |\n",
      "|Solid Waste|Brush / Bulky Miscellaneous                   |2313 |\n",
      "|Solid Waste|Brush Missed Pick up                          |2257 |\n",
      "|Solid Waste|Garbage Out of Cycle Collection               |2026 |\n",
      "|Solid Waste|Bulk Missed Pick up                           |1916 |\n",
      "+-----------+----------------------------------------------+-----+\n",
      "only showing top 20 rows\n",
      "\n"
     ]
    }
   ],
   "source": [
    "# Does the number of service requests for the solid waste department vary by day of the week?\n",
    "(   \n",
    "    df.filter(expr('department == \"Solid Waste\"'))\n",
    "    .groupby('department','service_request_type','')\n",
    "    .count()\n",
    "    .sort('count',ascending=False)\n",
    "    .show(truncate=False)\n",
    ")"
   ]
  },
  {
   "cell_type": "code",
   "execution_count": 47,
   "id": "b9d01c5b",
   "metadata": {},
   "outputs": [
    {
     "data": {
      "text/plain": [
       "case_opened_date\n",
       "2017-01-01     43\n",
       "2017-01-02    722\n",
       "2017-01-03    771\n",
       "2017-01-04    545\n",
       "2017-01-05    586\n",
       "             ... \n",
       "2018-08-04    175\n",
       "2018-08-05     90\n",
       "2018-08-06    775\n",
       "2018-08-07    714\n",
       "2018-08-08    191\n",
       "Name: cases_opened, Length: 585, dtype: int64"
      ]
     },
     "execution_count": 47,
     "metadata": {},
     "output_type": "execute_result"
    }
   ],
   "source": [
    "cases_opened_by_day_SW = (\n",
    "    cases_by_day\n",
    "    .filter(expr('department == \"Solid Waste\"'))\n",
    "    .groupby('case_opened_date')\n",
    "    .count()\n",
    "    .na.drop()\n",
    "    .sort('case_opened_date')\n",
    "    .toPandas()\n",
    "    .assign(case_opened_date=lambda df: pd.to_datetime(df.case_opened_date))\n",
    "    .set_index('case_opened_date')\n",
    "    ['count']\n",
    ")\n",
    "cases_opened_by_day_SW.name = 'cases_opened'\n",
    "cases_opened_by_day_SW"
   ]
  },
  {
   "cell_type": "code",
   "execution_count": 39,
   "id": "7d0a47ea",
   "metadata": {},
   "outputs": [],
   "source": [
    "cases_closed_by_day_SW = (\n",
    "    cases_by_day\n",
    "    .filter(expr('department == \"Solid Waste\"'))\n",
    "    .groupby('case_closed_date')\n",
    "    .count()\n",
    "    .na.drop()\n",
    "    .sort('case_closed_date')\n",
    "    .toPandas()\n",
    "    .assign(case_closed_date=lambda df: pd.to_datetime(df.case_closed_date))\n",
    "    .set_index('case_closed_date')\n",
    "    ['count']\n",
    ")\n",
    "cases_closed_by_day_SW.name = 'cases_closed'"
   ]
  },
  {
   "cell_type": "code",
   "execution_count": 40,
   "id": "33aff956",
   "metadata": {},
   "outputs": [
    {
     "data": {
      "text/html": [
       "<div>\n",
       "<style scoped>\n",
       "    .dataframe tbody tr th:only-of-type {\n",
       "        vertical-align: middle;\n",
       "    }\n",
       "\n",
       "    .dataframe tbody tr th {\n",
       "        vertical-align: top;\n",
       "    }\n",
       "\n",
       "    .dataframe thead th {\n",
       "        text-align: right;\n",
       "    }\n",
       "</style>\n",
       "<table border=\"1\" class=\"dataframe\">\n",
       "  <thead>\n",
       "    <tr style=\"text-align: right;\">\n",
       "      <th></th>\n",
       "      <th>cases_opened</th>\n",
       "      <th>cases_closed</th>\n",
       "    </tr>\n",
       "  </thead>\n",
       "  <tbody>\n",
       "    <tr>\n",
       "      <th>2017-01-01</th>\n",
       "      <td>43</td>\n",
       "      <td>NaN</td>\n",
       "    </tr>\n",
       "    <tr>\n",
       "      <th>2017-01-02</th>\n",
       "      <td>722</td>\n",
       "      <td>117.0</td>\n",
       "    </tr>\n",
       "    <tr>\n",
       "      <th>2017-01-03</th>\n",
       "      <td>771</td>\n",
       "      <td>365.0</td>\n",
       "    </tr>\n",
       "    <tr>\n",
       "      <th>2017-01-04</th>\n",
       "      <td>545</td>\n",
       "      <td>572.0</td>\n",
       "    </tr>\n",
       "    <tr>\n",
       "      <th>2017-01-05</th>\n",
       "      <td>586</td>\n",
       "      <td>413.0</td>\n",
       "    </tr>\n",
       "    <tr>\n",
       "      <th>...</th>\n",
       "      <td>...</td>\n",
       "      <td>...</td>\n",
       "    </tr>\n",
       "    <tr>\n",
       "      <th>2018-08-04</th>\n",
       "      <td>175</td>\n",
       "      <td>363.0</td>\n",
       "    </tr>\n",
       "    <tr>\n",
       "      <th>2018-08-05</th>\n",
       "      <td>90</td>\n",
       "      <td>51.0</td>\n",
       "    </tr>\n",
       "    <tr>\n",
       "      <th>2018-08-06</th>\n",
       "      <td>775</td>\n",
       "      <td>591.0</td>\n",
       "    </tr>\n",
       "    <tr>\n",
       "      <th>2018-08-07</th>\n",
       "      <td>714</td>\n",
       "      <td>631.0</td>\n",
       "    </tr>\n",
       "    <tr>\n",
       "      <th>2018-08-08</th>\n",
       "      <td>191</td>\n",
       "      <td>207.0</td>\n",
       "    </tr>\n",
       "  </tbody>\n",
       "</table>\n",
       "<p>585 rows × 2 columns</p>\n",
       "</div>"
      ],
      "text/plain": [
       "            cases_opened  cases_closed\n",
       "2017-01-01            43           NaN\n",
       "2017-01-02           722         117.0\n",
       "2017-01-03           771         365.0\n",
       "2017-01-04           545         572.0\n",
       "2017-01-05           586         413.0\n",
       "...                  ...           ...\n",
       "2018-08-04           175         363.0\n",
       "2018-08-05            90          51.0\n",
       "2018-08-06           775         591.0\n",
       "2018-08-07           714         631.0\n",
       "2018-08-08           191         207.0\n",
       "\n",
       "[585 rows x 2 columns]"
      ]
     },
     "execution_count": 40,
     "metadata": {},
     "output_type": "execute_result"
    }
   ],
   "source": [
    "ts_SW = pd.concat([cases_opened_by_day_SW, cases_closed_by_day_SW], axis=1)\n",
    "ts_SW"
   ]
  },
  {
   "cell_type": "code",
   "execution_count": 45,
   "id": "af17637d",
   "metadata": {},
   "outputs": [
    {
     "data": {
      "text/plain": [
       "Text(0.5, 1.0, 'Cases by Day of the Week for Department: Solid Waste')"
      ]
     },
     "execution_count": 45,
     "metadata": {},
     "output_type": "execute_result"
    },
    {
     "data": {
      "image/png": "[encoded data removed]",
      "text/plain": [
       "<Figure size 936x504 with 1 Axes>"
      ]
     },
     "metadata": {
      "needs_background": "light"
     },
     "output_type": "display_data"
    }
   ],
   "source": [
    "ts_SW['weekday'] = ts_SW.index.strftime('%w-%a')\n",
    "ts_SW.groupby('weekday').mean().plot.bar(figsize=(13, 7), ec='black', width=.9)\n",
    "plt.xticks(rotation=0)\n",
    "plt.title('Cases by Day of the Week for Department: Solid Waste' )"
   ]
  }
 ],
 "metadata": {
  "kernelspec": {
   "display_name": "Python 3",
   "language": "python",
   "name": "python3"
  },
  "language_info": {
   "codemirror_mode": {
    "name": "ipython",
    "version": 3
   },
   "file_extension": ".py",
   "mimetype": "text/x-python",
   "name": "python",
   "nbconvert_exporter": "python",
   "pygments_lexer": "ipython3",
   "version": "3.8.8"
  }
 },
 "nbformat": 4,
 "nbformat_minor": 5
}
